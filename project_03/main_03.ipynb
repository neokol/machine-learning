{
  "nbformat": 4,
  "nbformat_minor": 0,
  "metadata": {
    "colab": {
      "provenance": [],
      "gpuType": "T4"
    },
    "kernelspec": {
      "name": "python3",
      "display_name": "Python 3"
    },
    "language_info": {
      "name": "python"
    },
    "accelerator": "GPU"
  },
  "cells": [
    {
      "cell_type": "markdown",
      "source": [
        "Παραγωγή κειμένου με ένα Lllama 2"
      ],
      "metadata": {
        "id": "MSu8X9N1714q"
      }
    },
    {
      "cell_type": "markdown",
      "source": [
        "Περιγραφή της αρχιτεκτονικής\n",
        "\n",
        "Το μοντέλο βασίζεται στο LLaMA (Large Language Model Meta AI). Είναι σχεδιασμένο να επεξεργάζεται και να κατανοεί την ανθρώπινη γλώσσα. Το συγκεκριμένο μοντέλο είναι το \"llama-2-7b\", που σημαίνει ότι έχει 7 δισεκατομμύρια παραμέτρους. Αυτές οι παράμετροι βοηθούν το μοντέλο να κατανοεί και να δημιουργεί κείμενο.\n",
        "\n",
        "Παρμάμετρος Q: Αυτό σημαίνει ποσοτικοιποίηση στα 4 bits. Η ποσοτικοιποίηση μειώνει την ακρίβεια των αριθμών που χρησιμοποιούνται στο μοντέλο. Κάνει το μοντέλο μικρότερο και γρηγορότερο, αλλά με ορισμένες συμβιβασμούς στην ακρίβεια.\n",
        "\n",
        "Παράμετρος Κ: Αυτή είναι μια συγκεκριμένη παραλλαγή της τεχνικής ποσοτικοποίησης που χρησιμοποιείται. Διαφορετικές παραλλαγές μπορούν να επηρεάσουν την απόδοση και το μέγεθος του μοντέλου με διάφορους τρόπους.\n",
        "\n",
        "Παράμετρος Μ: Αναφέρεται σε μια συγκεκριμένη παραλλαγή ή τροποποίηση του μοντέλου που χρησιμοποιεί μια συγκεκριμένη μέθοδο για την επεξεργασία δεδομένων. Συνήθως, τέτοιες παράμετροι χρησιμοποιούνται για να υποδείξουν διαφοροποιήσεις στις τεχνικές βελτιστοποίησης ή κβαντοποίησης που εφαρμόζονται στο μοντέλο, προκειμένου να επιτευχθούν καλύτερα αποτελέσματα σε συγκεκριμένες εφαρμογές.\n",
        "\n",
        "Τύπος αρχείου \".gguf\": Αυτός είναι ένας συγκεκριμένος τύπος αρχείου που χρησιμοποιείται για την αποθήκευση του μοντέλου. Είναι βελτιστοποιημένος για ταχύτερη φόρτωση και εκτέλεση σε ορισμένα περιβάλλοντα. Η χρήση αυτού του τύπου αρχείου βοηθά στην αποτελεσματική αξιοποίηση των πόρων του υλικού και επιταχύνει τις λειτουργίες του μοντέλου."
      ],
      "metadata": {
        "id": "N7SSAimk74ln"
      }
    },
    {
      "cell_type": "code",
      "source": [
        "!git clone https://github.com/ggerganov/llama.cpp.git"
      ],
      "metadata": {
        "colab": {
          "base_uri": "https://localhost:8080/"
        },
        "id": "Xm25ydOO7_fY",
        "outputId": "06c18697-3333-40e2-8365-2863a4fb1b2b"
      },
      "execution_count": 1,
      "outputs": [
        {
          "output_type": "stream",
          "name": "stdout",
          "text": [
            "Cloning into 'llama.cpp'...\n",
            "remote: Enumerating objects: 27330, done.\u001b[K\n",
            "remote: Counting objects: 100% (8869/8869), done.\u001b[K\n",
            "remote: Compressing objects: 100% (494/494), done.\u001b[K\n",
            "remote: Total 27330 (delta 8608), reused 8403 (delta 8375), pack-reused 18461\u001b[K\n",
            "Receiving objects: 100% (27330/27330), 49.35 MiB | 14.26 MiB/s, done.\n",
            "Resolving deltas: 100% (19569/19569), done.\n"
          ]
        }
      ]
    },
    {
      "cell_type": "code",
      "source": [
        "%cd llama.cpp"
      ],
      "metadata": {
        "colab": {
          "base_uri": "https://localhost:8080/"
        },
        "id": "_aVBxcFjRNWK",
        "outputId": "1947de2d-a85b-4db5-e1e9-4930fcd33789"
      },
      "execution_count": 2,
      "outputs": [
        {
          "output_type": "stream",
          "name": "stdout",
          "text": [
            "/content/llama.cpp\n"
          ]
        }
      ]
    },
    {
      "cell_type": "code",
      "source": [
        "# Build with GPU\n",
        "# !make LLAMA_CUDA=1\n",
        "# Build without GPU\n",
        "!make"
      ],
      "metadata": {
        "colab": {
          "base_uri": "https://localhost:8080/"
        },
        "id": "_X_YHX0u95Mn",
        "outputId": "8f2a64ce-1d65-4332-bea2-8c5df8bd4ef8"
      },
      "execution_count": 3,
      "outputs": [
        {
          "output_type": "stream",
          "name": "stdout",
          "text": [
            "I ccache not found. Consider installing it for faster compilation.\n",
            "I llama.cpp build info: \n",
            "I UNAME_S:   Linux\n",
            "I UNAME_P:   x86_64\n",
            "I UNAME_M:   x86_64\n",
            "I CFLAGS:    -I. -Icommon -D_XOPEN_SOURCE=600 -D_GNU_SOURCE -DNDEBUG -DGGML_USE_OPENMP -DGGML_USE_LLAMAFILE  -std=c11   -fPIC -O3 -Wall -Wextra -Wpedantic -Wcast-qual -Wno-unused-function -Wshadow -Wstrict-prototypes -Wpointer-arith -Wmissing-prototypes -Werror=implicit-int -Werror=implicit-function-declaration -pthread -march=native -mtune=native -fopenmp -Wdouble-promotion \n",
            "I CXXFLAGS:  -std=c++11 -fPIC -O3 -Wall -Wextra -Wpedantic -Wcast-qual -Wno-unused-function -Wmissing-declarations -Wmissing-noreturn -pthread -fopenmp  -march=native -mtune=native -Wno-array-bounds -Wno-format-truncation -Wextra-semi -I. -Icommon -D_XOPEN_SOURCE=600 -D_GNU_SOURCE -DNDEBUG -DGGML_USE_OPENMP -DGGML_USE_LLAMAFILE \n",
            "I NVCCFLAGS: -std=c++11 -O3 \n",
            "I LDFLAGS:    \n",
            "I CC:        cc (Ubuntu 11.4.0-1ubuntu1~22.04) 11.4.0\n",
            "I CXX:       c++ (Ubuntu 11.4.0-1ubuntu1~22.04) 11.4.0\n",
            "\n",
            "cc  -I. -Icommon -D_XOPEN_SOURCE=600 -D_GNU_SOURCE -DNDEBUG -DGGML_USE_OPENMP -DGGML_USE_LLAMAFILE  -std=c11   -fPIC -O3 -Wall -Wextra -Wpedantic -Wcast-qual -Wno-unused-function -Wshadow -Wstrict-prototypes -Wpointer-arith -Wmissing-prototypes -Werror=implicit-int -Werror=implicit-function-declaration -pthread -march=native -mtune=native -fopenmp -Wdouble-promotion    -c ggml.c -o ggml.o\n",
            "c++ -std=c++11 -fPIC -O3 -Wall -Wextra -Wpedantic -Wcast-qual -Wno-unused-function -Wmissing-declarations -Wmissing-noreturn -pthread -fopenmp  -march=native -mtune=native -Wno-array-bounds -Wno-format-truncation -Wextra-semi -I. -Icommon -D_XOPEN_SOURCE=600 -D_GNU_SOURCE -DNDEBUG -DGGML_USE_OPENMP -DGGML_USE_LLAMAFILE  -c llama.cpp -o llama.o\n",
            "c++ -std=c++11 -fPIC -O3 -Wall -Wextra -Wpedantic -Wcast-qual -Wno-unused-function -Wmissing-declarations -Wmissing-noreturn -pthread -fopenmp  -march=native -mtune=native -Wno-array-bounds -Wno-format-truncation -Wextra-semi -I. -Icommon -D_XOPEN_SOURCE=600 -D_GNU_SOURCE -DNDEBUG -DGGML_USE_OPENMP -DGGML_USE_LLAMAFILE  -c common/common.cpp -o common.o\n",
            "c++ -std=c++11 -fPIC -O3 -Wall -Wextra -Wpedantic -Wcast-qual -Wno-unused-function -Wmissing-declarations -Wmissing-noreturn -pthread -fopenmp  -march=native -mtune=native -Wno-array-bounds -Wno-format-truncation -Wextra-semi -I. -Icommon -D_XOPEN_SOURCE=600 -D_GNU_SOURCE -DNDEBUG -DGGML_USE_OPENMP -DGGML_USE_LLAMAFILE  -c common/sampling.cpp -o sampling.o\n",
            "c++ -std=c++11 -fPIC -O3 -Wall -Wextra -Wpedantic -Wcast-qual -Wno-unused-function -Wmissing-declarations -Wmissing-noreturn -pthread -fopenmp  -march=native -mtune=native -Wno-array-bounds -Wno-format-truncation -Wextra-semi -I. -Icommon -D_XOPEN_SOURCE=600 -D_GNU_SOURCE -DNDEBUG -DGGML_USE_OPENMP -DGGML_USE_LLAMAFILE  -c common/grammar-parser.cpp -o grammar-parser.o\n",
            "c++ -std=c++11 -fPIC -O3 -Wall -Wextra -Wpedantic -Wcast-qual -Wno-unused-function -Wmissing-declarations -Wmissing-noreturn -pthread -fopenmp  -march=native -mtune=native -Wno-array-bounds -Wno-format-truncation -Wextra-semi -I. -Icommon -D_XOPEN_SOURCE=600 -D_GNU_SOURCE -DNDEBUG -DGGML_USE_OPENMP -DGGML_USE_LLAMAFILE  -c common/build-info.cpp -o build-info.o\n",
            "c++ -std=c++11 -fPIC -O3 -Wall -Wextra -Wpedantic -Wcast-qual -Wno-unused-function -Wmissing-declarations -Wmissing-noreturn -pthread -fopenmp  -march=native -mtune=native -Wno-array-bounds -Wno-format-truncation -Wextra-semi -I. -Icommon -D_XOPEN_SOURCE=600 -D_GNU_SOURCE -DNDEBUG -DGGML_USE_OPENMP -DGGML_USE_LLAMAFILE  -c common/json-schema-to-grammar.cpp -o json-schema-to-grammar.o\n",
            "c++ -std=c++11 -fPIC -O3 -Wall -Wextra -Wpedantic -Wcast-qual -Wno-unused-function -Wmissing-declarations -Wmissing-noreturn -pthread -fopenmp  -march=native -mtune=native -Wno-array-bounds -Wno-format-truncation -Wextra-semi -I. -Icommon -D_XOPEN_SOURCE=600 -D_GNU_SOURCE -DNDEBUG -DGGML_USE_OPENMP -DGGML_USE_LLAMAFILE  -c sgemm.cpp -o sgemm.o\n",
            "cc  -I. -Icommon -D_XOPEN_SOURCE=600 -D_GNU_SOURCE -DNDEBUG -DGGML_USE_OPENMP -DGGML_USE_LLAMAFILE  -std=c11   -fPIC -O3 -Wall -Wextra -Wpedantic -Wcast-qual -Wno-unused-function -Wshadow -Wstrict-prototypes -Wpointer-arith -Wmissing-prototypes -Werror=implicit-int -Werror=implicit-function-declaration -pthread -march=native -mtune=native -fopenmp -Wdouble-promotion    -c ggml-alloc.c -o ggml-alloc.o\n",
            "cc  -I. -Icommon -D_XOPEN_SOURCE=600 -D_GNU_SOURCE -DNDEBUG -DGGML_USE_OPENMP -DGGML_USE_LLAMAFILE  -std=c11   -fPIC -O3 -Wall -Wextra -Wpedantic -Wcast-qual -Wno-unused-function -Wshadow -Wstrict-prototypes -Wpointer-arith -Wmissing-prototypes -Werror=implicit-int -Werror=implicit-function-declaration -pthread -march=native -mtune=native -fopenmp -Wdouble-promotion    -c ggml-backend.c -o ggml-backend.o\n",
            "cc -I. -Icommon -D_XOPEN_SOURCE=600 -D_GNU_SOURCE -DNDEBUG -DGGML_USE_OPENMP -DGGML_USE_LLAMAFILE  -std=c11   -fPIC -O3 -Wall -Wextra -Wpedantic -Wcast-qual -Wno-unused-function -Wshadow -Wstrict-prototypes -Wpointer-arith -Wmissing-prototypes -Werror=implicit-int -Werror=implicit-function-declaration -pthread -march=native -mtune=native -fopenmp -Wdouble-promotion     -c ggml-quants.c -o ggml-quants.o\n",
            "c++ -std=c++11 -fPIC -O3 -Wall -Wextra -Wpedantic -Wcast-qual -Wno-unused-function -Wmissing-declarations -Wmissing-noreturn -pthread -fopenmp  -march=native -mtune=native -Wno-array-bounds -Wno-format-truncation -Wextra-semi -I. -Icommon -D_XOPEN_SOURCE=600 -D_GNU_SOURCE -DNDEBUG -DGGML_USE_OPENMP -DGGML_USE_LLAMAFILE  -c unicode.cpp -o unicode.o\n",
            "c++ -std=c++11 -fPIC -O3 -Wall -Wextra -Wpedantic -Wcast-qual -Wno-unused-function -Wmissing-declarations -Wmissing-noreturn -pthread -fopenmp  -march=native -mtune=native -Wno-array-bounds -Wno-format-truncation -Wextra-semi -I. -Icommon -D_XOPEN_SOURCE=600 -D_GNU_SOURCE -DNDEBUG -DGGML_USE_OPENMP -DGGML_USE_LLAMAFILE  -c unicode-data.cpp -o unicode-data.o\n",
            "c++ -std=c++11 -fPIC -O3 -Wall -Wextra -Wpedantic -Wcast-qual -Wno-unused-function -Wmissing-declarations -Wmissing-noreturn -pthread -fopenmp  -march=native -mtune=native -Wno-array-bounds -Wno-format-truncation -Wextra-semi -I. -Icommon -D_XOPEN_SOURCE=600 -D_GNU_SOURCE -DNDEBUG -DGGML_USE_OPENMP -DGGML_USE_LLAMAFILE  -static -fPIC -c examples/llava/llava.cpp -o libllava.a -Wno-cast-qual\n",
            "c++ -std=c++11 -fPIC -O3 -Wall -Wextra -Wpedantic -Wcast-qual -Wno-unused-function -Wmissing-declarations -Wmissing-noreturn -pthread -fopenmp  -march=native -mtune=native -Wno-array-bounds -Wno-format-truncation -Wextra-semi -I. -Icommon -D_XOPEN_SOURCE=600 -D_GNU_SOURCE -DNDEBUG -DGGML_USE_OPENMP -DGGML_USE_LLAMAFILE  -c common/train.cpp -o train.o\n",
            "c++ -std=c++11 -fPIC -O3 -Wall -Wextra -Wpedantic -Wcast-qual -Wno-unused-function -Wmissing-declarations -Wmissing-noreturn -pthread -fopenmp  -march=native -mtune=native -Wno-array-bounds -Wno-format-truncation -Wextra-semi -I. -Icommon -D_XOPEN_SOURCE=600 -D_GNU_SOURCE -DNDEBUG -DGGML_USE_OPENMP -DGGML_USE_LLAMAFILE  -c examples/baby-llama/baby-llama.cpp -o examples/baby-llama/baby-llama.o\n",
            "c++ -std=c++11 -fPIC -O3 -Wall -Wextra -Wpedantic -Wcast-qual -Wno-unused-function -Wmissing-declarations -Wmissing-noreturn -pthread -fopenmp  -march=native -mtune=native -Wno-array-bounds -Wno-format-truncation -Wextra-semi -I. -Icommon -D_XOPEN_SOURCE=600 -D_GNU_SOURCE -DNDEBUG -DGGML_USE_OPENMP -DGGML_USE_LLAMAFILE  ggml.o llama.o common.o sampling.o grammar-parser.o build-info.o json-schema-to-grammar.o train.o sgemm.o ggml-alloc.o ggml-backend.o ggml-quants.o unicode.o unicode-data.o examples/baby-llama/baby-llama.o -o llama-baby-llama  \n",
            "c++ -std=c++11 -fPIC -O3 -Wall -Wextra -Wpedantic -Wcast-qual -Wno-unused-function -Wmissing-declarations -Wmissing-noreturn -pthread -fopenmp  -march=native -mtune=native -Wno-array-bounds -Wno-format-truncation -Wextra-semi -I. -Icommon -D_XOPEN_SOURCE=600 -D_GNU_SOURCE -DNDEBUG -DGGML_USE_OPENMP -DGGML_USE_LLAMAFILE  -c examples/batched/batched.cpp -o examples/batched/batched.o\n",
            "c++ -std=c++11 -fPIC -O3 -Wall -Wextra -Wpedantic -Wcast-qual -Wno-unused-function -Wmissing-declarations -Wmissing-noreturn -pthread -fopenmp  -march=native -mtune=native -Wno-array-bounds -Wno-format-truncation -Wextra-semi -I. -Icommon -D_XOPEN_SOURCE=600 -D_GNU_SOURCE -DNDEBUG -DGGML_USE_OPENMP -DGGML_USE_LLAMAFILE  ggml.o llama.o common.o sampling.o grammar-parser.o build-info.o json-schema-to-grammar.o sgemm.o ggml-alloc.o ggml-backend.o ggml-quants.o unicode.o unicode-data.o examples/batched/batched.o -o llama-batched  \n",
            "c++ -std=c++11 -fPIC -O3 -Wall -Wextra -Wpedantic -Wcast-qual -Wno-unused-function -Wmissing-declarations -Wmissing-noreturn -pthread -fopenmp  -march=native -mtune=native -Wno-array-bounds -Wno-format-truncation -Wextra-semi -I. -Icommon -D_XOPEN_SOURCE=600 -D_GNU_SOURCE -DNDEBUG -DGGML_USE_OPENMP -DGGML_USE_LLAMAFILE  -c examples/batched-bench/batched-bench.cpp -o examples/batched-bench/batched-bench.o\n",
            "c++ -std=c++11 -fPIC -O3 -Wall -Wextra -Wpedantic -Wcast-qual -Wno-unused-function -Wmissing-declarations -Wmissing-noreturn -pthread -fopenmp  -march=native -mtune=native -Wno-array-bounds -Wno-format-truncation -Wextra-semi -I. -Icommon -D_XOPEN_SOURCE=600 -D_GNU_SOURCE -DNDEBUG -DGGML_USE_OPENMP -DGGML_USE_LLAMAFILE  build-info.o ggml.o llama.o common.o sampling.o grammar-parser.o json-schema-to-grammar.o sgemm.o ggml-alloc.o ggml-backend.o ggml-quants.o unicode.o unicode-data.o examples/batched-bench/batched-bench.o -o llama-batched-bench  \n",
            "c++ -std=c++11 -fPIC -O3 -Wall -Wextra -Wpedantic -Wcast-qual -Wno-unused-function -Wmissing-declarations -Wmissing-noreturn -pthread -fopenmp  -march=native -mtune=native -Wno-array-bounds -Wno-format-truncation -Wextra-semi -I. -Icommon -D_XOPEN_SOURCE=600 -D_GNU_SOURCE -DNDEBUG -DGGML_USE_OPENMP -DGGML_USE_LLAMAFILE  -c examples/llama-bench/llama-bench.cpp -o examples/llama-bench/llama-bench.o\n",
            "c++ -std=c++11 -fPIC -O3 -Wall -Wextra -Wpedantic -Wcast-qual -Wno-unused-function -Wmissing-declarations -Wmissing-noreturn -pthread -fopenmp  -march=native -mtune=native -Wno-array-bounds -Wno-format-truncation -Wextra-semi -I. -Icommon -D_XOPEN_SOURCE=600 -D_GNU_SOURCE -DNDEBUG -DGGML_USE_OPENMP -DGGML_USE_LLAMAFILE  ggml.o llama.o common.o sampling.o grammar-parser.o build-info.o json-schema-to-grammar.o sgemm.o ggml-alloc.o ggml-backend.o ggml-quants.o unicode.o unicode-data.o examples/llama-bench/llama-bench.o -o llama-bench  \n",
            "c++ -std=c++11 -fPIC -O3 -Wall -Wextra -Wpedantic -Wcast-qual -Wno-unused-function -Wmissing-declarations -Wmissing-noreturn -pthread -fopenmp  -march=native -mtune=native -Wno-array-bounds -Wno-format-truncation -Wextra-semi -I. -Icommon -D_XOPEN_SOURCE=600 -D_GNU_SOURCE -DNDEBUG -DGGML_USE_OPENMP -DGGML_USE_LLAMAFILE  -c examples/benchmark/benchmark-matmult.cpp -o examples/benchmark/benchmark-matmult.o\n",
            "c++ -std=c++11 -fPIC -O3 -Wall -Wextra -Wpedantic -Wcast-qual -Wno-unused-function -Wmissing-declarations -Wmissing-noreturn -pthread -fopenmp  -march=native -mtune=native -Wno-array-bounds -Wno-format-truncation -Wextra-semi -I. -Icommon -D_XOPEN_SOURCE=600 -D_GNU_SOURCE -DNDEBUG -DGGML_USE_OPENMP -DGGML_USE_LLAMAFILE  build-info.o ggml.o sgemm.o ggml-alloc.o ggml-backend.o ggml-quants.o unicode.o unicode-data.o examples/benchmark/benchmark-matmult.o -o llama-benchmark-matmult  \n",
            "c++ -std=c++11 -fPIC -O3 -Wall -Wextra -Wpedantic -Wcast-qual -Wno-unused-function -Wmissing-declarations -Wmissing-noreturn -pthread -fopenmp  -march=native -mtune=native -Wno-array-bounds -Wno-format-truncation -Wextra-semi -I. -Icommon -D_XOPEN_SOURCE=600 -D_GNU_SOURCE -DNDEBUG -DGGML_USE_OPENMP -DGGML_USE_LLAMAFILE  -c common/console.cpp -o console.o\n",
            "c++ -std=c++11 -fPIC -O3 -Wall -Wextra -Wpedantic -Wcast-qual -Wno-unused-function -Wmissing-declarations -Wmissing-noreturn -pthread -fopenmp  -march=native -mtune=native -Wno-array-bounds -Wno-format-truncation -Wextra-semi -I. -Icommon -D_XOPEN_SOURCE=600 -D_GNU_SOURCE -DNDEBUG -DGGML_USE_OPENMP -DGGML_USE_LLAMAFILE  -c examples/main/main.cpp -o examples/main/main.o\n",
            "c++ -std=c++11 -fPIC -O3 -Wall -Wextra -Wpedantic -Wcast-qual -Wno-unused-function -Wmissing-declarations -Wmissing-noreturn -pthread -fopenmp  -march=native -mtune=native -Wno-array-bounds -Wno-format-truncation -Wextra-semi -I. -Icommon -D_XOPEN_SOURCE=600 -D_GNU_SOURCE -DNDEBUG -DGGML_USE_OPENMP -DGGML_USE_LLAMAFILE  ggml.o llama.o common.o sampling.o grammar-parser.o build-info.o json-schema-to-grammar.o console.o sgemm.o ggml-alloc.o ggml-backend.o ggml-quants.o unicode.o unicode-data.o examples/main/main.o -o llama-cli  \n",
            "\n",
            "====  Run ./llama-cli -h for help.  ====\n",
            "\n",
            "c++ -std=c++11 -fPIC -O3 -Wall -Wextra -Wpedantic -Wcast-qual -Wno-unused-function -Wmissing-declarations -Wmissing-noreturn -pthread -fopenmp  -march=native -mtune=native -Wno-array-bounds -Wno-format-truncation -Wextra-semi -I. -Icommon -D_XOPEN_SOURCE=600 -D_GNU_SOURCE -DNDEBUG -DGGML_USE_OPENMP -DGGML_USE_LLAMAFILE  -c examples/convert-llama2c-to-ggml/convert-llama2c-to-ggml.cpp -o examples/convert-llama2c-to-ggml/convert-llama2c-to-ggml.o\n",
            "c++ -std=c++11 -fPIC -O3 -Wall -Wextra -Wpedantic -Wcast-qual -Wno-unused-function -Wmissing-declarations -Wmissing-noreturn -pthread -fopenmp  -march=native -mtune=native -Wno-array-bounds -Wno-format-truncation -Wextra-semi -I. -Icommon -D_XOPEN_SOURCE=600 -D_GNU_SOURCE -DNDEBUG -DGGML_USE_OPENMP -DGGML_USE_LLAMAFILE  ggml.o llama.o sgemm.o ggml-alloc.o ggml-backend.o ggml-quants.o unicode.o unicode-data.o examples/convert-llama2c-to-ggml/convert-llama2c-to-ggml.o -o llama-convert-llama2c-to-ggml  \n",
            "c++ -std=c++11 -fPIC -O3 -Wall -Wextra -Wpedantic -Wcast-qual -Wno-unused-function -Wmissing-declarations -Wmissing-noreturn -pthread -fopenmp  -march=native -mtune=native -Wno-array-bounds -Wno-format-truncation -Wextra-semi -I. -Icommon -D_XOPEN_SOURCE=600 -D_GNU_SOURCE -DNDEBUG -DGGML_USE_OPENMP -DGGML_USE_LLAMAFILE  -c examples/embedding/embedding.cpp -o examples/embedding/embedding.o\n",
            "c++ -std=c++11 -fPIC -O3 -Wall -Wextra -Wpedantic -Wcast-qual -Wno-unused-function -Wmissing-declarations -Wmissing-noreturn -pthread -fopenmp  -march=native -mtune=native -Wno-array-bounds -Wno-format-truncation -Wextra-semi -I. -Icommon -D_XOPEN_SOURCE=600 -D_GNU_SOURCE -DNDEBUG -DGGML_USE_OPENMP -DGGML_USE_LLAMAFILE  ggml.o llama.o common.o sampling.o grammar-parser.o build-info.o json-schema-to-grammar.o sgemm.o ggml-alloc.o ggml-backend.o ggml-quants.o unicode.o unicode-data.o examples/embedding/embedding.o -o llama-embedding  \n",
            "c++ -std=c++11 -fPIC -O3 -Wall -Wextra -Wpedantic -Wcast-qual -Wno-unused-function -Wmissing-declarations -Wmissing-noreturn -pthread -fopenmp  -march=native -mtune=native -Wno-array-bounds -Wno-format-truncation -Wextra-semi -I. -Icommon -D_XOPEN_SOURCE=600 -D_GNU_SOURCE -DNDEBUG -DGGML_USE_OPENMP -DGGML_USE_LLAMAFILE  -c examples/eval-callback/eval-callback.cpp -o examples/eval-callback/eval-callback.o\n",
            "c++ -std=c++11 -fPIC -O3 -Wall -Wextra -Wpedantic -Wcast-qual -Wno-unused-function -Wmissing-declarations -Wmissing-noreturn -pthread -fopenmp  -march=native -mtune=native -Wno-array-bounds -Wno-format-truncation -Wextra-semi -I. -Icommon -D_XOPEN_SOURCE=600 -D_GNU_SOURCE -DNDEBUG -DGGML_USE_OPENMP -DGGML_USE_LLAMAFILE  ggml.o llama.o common.o sampling.o grammar-parser.o build-info.o json-schema-to-grammar.o sgemm.o ggml-alloc.o ggml-backend.o ggml-quants.o unicode.o unicode-data.o examples/eval-callback/eval-callback.o -o llama-eval-callback  \n",
            "c++ -std=c++11 -fPIC -O3 -Wall -Wextra -Wpedantic -Wcast-qual -Wno-unused-function -Wmissing-declarations -Wmissing-noreturn -pthread -fopenmp  -march=native -mtune=native -Wno-array-bounds -Wno-format-truncation -Wextra-semi -I. -Icommon -D_XOPEN_SOURCE=600 -D_GNU_SOURCE -DNDEBUG -DGGML_USE_OPENMP -DGGML_USE_LLAMAFILE  -c examples/export-lora/export-lora.cpp -o examples/export-lora/export-lora.o\n",
            "c++ -std=c++11 -fPIC -O3 -Wall -Wextra -Wpedantic -Wcast-qual -Wno-unused-function -Wmissing-declarations -Wmissing-noreturn -pthread -fopenmp  -march=native -mtune=native -Wno-array-bounds -Wno-format-truncation -Wextra-semi -I. -Icommon -D_XOPEN_SOURCE=600 -D_GNU_SOURCE -DNDEBUG -DGGML_USE_OPENMP -DGGML_USE_LLAMAFILE  ggml.o sgemm.o ggml-alloc.o ggml-backend.o ggml-quants.o unicode.o unicode-data.o examples/export-lora/export-lora.o -o llama-export-lora  \n",
            "c++ -std=c++11 -fPIC -O3 -Wall -Wextra -Wpedantic -Wcast-qual -Wno-unused-function -Wmissing-declarations -Wmissing-noreturn -pthread -fopenmp  -march=native -mtune=native -Wno-array-bounds -Wno-format-truncation -Wextra-semi -I. -Icommon -D_XOPEN_SOURCE=600 -D_GNU_SOURCE -DNDEBUG -DGGML_USE_OPENMP -DGGML_USE_LLAMAFILE  -c examples/finetune/finetune.cpp -o examples/finetune/finetune.o\n",
            "c++ -std=c++11 -fPIC -O3 -Wall -Wextra -Wpedantic -Wcast-qual -Wno-unused-function -Wmissing-declarations -Wmissing-noreturn -pthread -fopenmp  -march=native -mtune=native -Wno-array-bounds -Wno-format-truncation -Wextra-semi -I. -Icommon -D_XOPEN_SOURCE=600 -D_GNU_SOURCE -DNDEBUG -DGGML_USE_OPENMP -DGGML_USE_LLAMAFILE  ggml.o llama.o common.o sampling.o grammar-parser.o build-info.o json-schema-to-grammar.o train.o sgemm.o ggml-alloc.o ggml-backend.o ggml-quants.o unicode.o unicode-data.o examples/finetune/finetune.o -o llama-finetune  \n",
            "c++ -std=c++11 -fPIC -O3 -Wall -Wextra -Wpedantic -Wcast-qual -Wno-unused-function -Wmissing-declarations -Wmissing-noreturn -pthread -fopenmp  -march=native -mtune=native -Wno-array-bounds -Wno-format-truncation -Wextra-semi -I. -Icommon -D_XOPEN_SOURCE=600 -D_GNU_SOURCE -DNDEBUG -DGGML_USE_OPENMP -DGGML_USE_LLAMAFILE  -c examples/gbnf-validator/gbnf-validator.cpp -o examples/gbnf-validator/gbnf-validator.o\n",
            "c++ -std=c++11 -fPIC -O3 -Wall -Wextra -Wpedantic -Wcast-qual -Wno-unused-function -Wmissing-declarations -Wmissing-noreturn -pthread -fopenmp  -march=native -mtune=native -Wno-array-bounds -Wno-format-truncation -Wextra-semi -I. -Icommon -D_XOPEN_SOURCE=600 -D_GNU_SOURCE -DNDEBUG -DGGML_USE_OPENMP -DGGML_USE_LLAMAFILE  ggml.o llama.o common.o sampling.o grammar-parser.o build-info.o json-schema-to-grammar.o sgemm.o ggml-alloc.o ggml-backend.o ggml-quants.o unicode.o unicode-data.o examples/gbnf-validator/gbnf-validator.o -o llama-gbnf-validator  \n",
            "c++ -std=c++11 -fPIC -O3 -Wall -Wextra -Wpedantic -Wcast-qual -Wno-unused-function -Wmissing-declarations -Wmissing-noreturn -pthread -fopenmp  -march=native -mtune=native -Wno-array-bounds -Wno-format-truncation -Wextra-semi -I. -Icommon -D_XOPEN_SOURCE=600 -D_GNU_SOURCE -DNDEBUG -DGGML_USE_OPENMP -DGGML_USE_LLAMAFILE  -c examples/gguf/gguf.cpp -o examples/gguf/gguf.o\n",
            "c++ -std=c++11 -fPIC -O3 -Wall -Wextra -Wpedantic -Wcast-qual -Wno-unused-function -Wmissing-declarations -Wmissing-noreturn -pthread -fopenmp  -march=native -mtune=native -Wno-array-bounds -Wno-format-truncation -Wextra-semi -I. -Icommon -D_XOPEN_SOURCE=600 -D_GNU_SOURCE -DNDEBUG -DGGML_USE_OPENMP -DGGML_USE_LLAMAFILE  ggml.o sgemm.o ggml-alloc.o ggml-backend.o ggml-quants.o unicode.o unicode-data.o examples/gguf/gguf.o -o llama-gguf  \n",
            "c++ -std=c++11 -fPIC -O3 -Wall -Wextra -Wpedantic -Wcast-qual -Wno-unused-function -Wmissing-declarations -Wmissing-noreturn -pthread -fopenmp  -march=native -mtune=native -Wno-array-bounds -Wno-format-truncation -Wextra-semi -I. -Icommon -D_XOPEN_SOURCE=600 -D_GNU_SOURCE -DNDEBUG -DGGML_USE_OPENMP -DGGML_USE_LLAMAFILE  -c examples/gguf-split/gguf-split.cpp -o examples/gguf-split/gguf-split.o\n",
            "c++ -std=c++11 -fPIC -O3 -Wall -Wextra -Wpedantic -Wcast-qual -Wno-unused-function -Wmissing-declarations -Wmissing-noreturn -pthread -fopenmp  -march=native -mtune=native -Wno-array-bounds -Wno-format-truncation -Wextra-semi -I. -Icommon -D_XOPEN_SOURCE=600 -D_GNU_SOURCE -DNDEBUG -DGGML_USE_OPENMP -DGGML_USE_LLAMAFILE  ggml.o llama.o common.o sampling.o grammar-parser.o build-info.o json-schema-to-grammar.o sgemm.o ggml-alloc.o ggml-backend.o ggml-quants.o unicode.o unicode-data.o examples/gguf-split/gguf-split.o -o llama-gguf-split  \n",
            "c++ -std=c++11 -fPIC -O3 -Wall -Wextra -Wpedantic -Wcast-qual -Wno-unused-function -Wmissing-declarations -Wmissing-noreturn -pthread -fopenmp  -march=native -mtune=native -Wno-array-bounds -Wno-format-truncation -Wextra-semi -I. -Icommon -D_XOPEN_SOURCE=600 -D_GNU_SOURCE -DNDEBUG -DGGML_USE_OPENMP -DGGML_USE_LLAMAFILE  -c examples/gritlm/gritlm.cpp -o examples/gritlm/gritlm.o\n",
            "c++ -std=c++11 -fPIC -O3 -Wall -Wextra -Wpedantic -Wcast-qual -Wno-unused-function -Wmissing-declarations -Wmissing-noreturn -pthread -fopenmp  -march=native -mtune=native -Wno-array-bounds -Wno-format-truncation -Wextra-semi -I. -Icommon -D_XOPEN_SOURCE=600 -D_GNU_SOURCE -DNDEBUG -DGGML_USE_OPENMP -DGGML_USE_LLAMAFILE  ggml.o llama.o common.o sampling.o grammar-parser.o build-info.o json-schema-to-grammar.o sgemm.o ggml-alloc.o ggml-backend.o ggml-quants.o unicode.o unicode-data.o examples/gritlm/gritlm.o -o llama-gritlm  \n",
            "c++ -std=c++11 -fPIC -O3 -Wall -Wextra -Wpedantic -Wcast-qual -Wno-unused-function -Wmissing-declarations -Wmissing-noreturn -pthread -fopenmp  -march=native -mtune=native -Wno-array-bounds -Wno-format-truncation -Wextra-semi -I. -Icommon -D_XOPEN_SOURCE=600 -D_GNU_SOURCE -DNDEBUG -DGGML_USE_OPENMP -DGGML_USE_LLAMAFILE  -c examples/imatrix/imatrix.cpp -o examples/imatrix/imatrix.o\n",
            "c++ -std=c++11 -fPIC -O3 -Wall -Wextra -Wpedantic -Wcast-qual -Wno-unused-function -Wmissing-declarations -Wmissing-noreturn -pthread -fopenmp  -march=native -mtune=native -Wno-array-bounds -Wno-format-truncation -Wextra-semi -I. -Icommon -D_XOPEN_SOURCE=600 -D_GNU_SOURCE -DNDEBUG -DGGML_USE_OPENMP -DGGML_USE_LLAMAFILE  ggml.o llama.o common.o sampling.o grammar-parser.o build-info.o json-schema-to-grammar.o sgemm.o ggml-alloc.o ggml-backend.o ggml-quants.o unicode.o unicode-data.o examples/imatrix/imatrix.o -o llama-imatrix  \n",
            "c++ -std=c++11 -fPIC -O3 -Wall -Wextra -Wpedantic -Wcast-qual -Wno-unused-function -Wmissing-declarations -Wmissing-noreturn -pthread -fopenmp  -march=native -mtune=native -Wno-array-bounds -Wno-format-truncation -Wextra-semi -I. -Icommon -D_XOPEN_SOURCE=600 -D_GNU_SOURCE -DNDEBUG -DGGML_USE_OPENMP -DGGML_USE_LLAMAFILE  -c examples/infill/infill.cpp -o examples/infill/infill.o\n",
            "c++ -std=c++11 -fPIC -O3 -Wall -Wextra -Wpedantic -Wcast-qual -Wno-unused-function -Wmissing-declarations -Wmissing-noreturn -pthread -fopenmp  -march=native -mtune=native -Wno-array-bounds -Wno-format-truncation -Wextra-semi -I. -Icommon -D_XOPEN_SOURCE=600 -D_GNU_SOURCE -DNDEBUG -DGGML_USE_OPENMP -DGGML_USE_LLAMAFILE  ggml.o llama.o common.o sampling.o grammar-parser.o build-info.o json-schema-to-grammar.o console.o sgemm.o ggml-alloc.o ggml-backend.o ggml-quants.o unicode.o unicode-data.o examples/infill/infill.o -o llama-infill  \n",
            "c++ -std=c++11 -fPIC -O3 -Wall -Wextra -Wpedantic -Wcast-qual -Wno-unused-function -Wmissing-declarations -Wmissing-noreturn -pthread -fopenmp  -march=native -mtune=native -Wno-array-bounds -Wno-format-truncation -Wextra-semi -I. -Icommon -D_XOPEN_SOURCE=600 -D_GNU_SOURCE -DNDEBUG -DGGML_USE_OPENMP -DGGML_USE_LLAMAFILE  -c examples/llava/llava-cli.cpp -o examples/llava/llava-cli.o\n",
            "c++ -std=c++11 -fPIC -O3 -Wall -Wextra -Wpedantic -Wcast-qual -Wno-unused-function -Wmissing-declarations -Wmissing-noreturn -pthread -fopenmp  -march=native -mtune=native -Wno-array-bounds -Wno-format-truncation -Wextra-semi -I. -Icommon -D_XOPEN_SOURCE=600 -D_GNU_SOURCE -DNDEBUG -DGGML_USE_OPENMP -DGGML_USE_LLAMAFILE  -c examples/llava/clip.cpp  -o examples/llava/clip.o -Wno-cast-qual\n",
            "c++ -std=c++11 -fPIC -O3 -Wall -Wextra -Wpedantic -Wcast-qual -Wno-unused-function -Wmissing-declarations -Wmissing-noreturn -pthread -fopenmp  -march=native -mtune=native -Wno-array-bounds -Wno-format-truncation -Wextra-semi -I. -Icommon -D_XOPEN_SOURCE=600 -D_GNU_SOURCE -DNDEBUG -DGGML_USE_OPENMP -DGGML_USE_LLAMAFILE  -c examples/llava/llava.cpp -o examples/llava/llava.o\n",
            "c++ -std=c++11 -fPIC -O3 -Wall -Wextra -Wpedantic -Wcast-qual -Wno-unused-function -Wmissing-declarations -Wmissing-noreturn -pthread -fopenmp  -march=native -mtune=native -Wno-array-bounds -Wno-format-truncation -Wextra-semi -I. -Icommon -D_XOPEN_SOURCE=600 -D_GNU_SOURCE -DNDEBUG -DGGML_USE_OPENMP -DGGML_USE_LLAMAFILE  ggml.o llama.o common.o sampling.o grammar-parser.o build-info.o json-schema-to-grammar.o sgemm.o ggml-alloc.o ggml-backend.o ggml-quants.o unicode.o unicode-data.o examples/llava/llava-cli.o examples/llava/clip.o examples/llava/llava.o -o llama-llava-cli  \n",
            "c++ -std=c++11 -fPIC -O3 -Wall -Wextra -Wpedantic -Wcast-qual -Wno-unused-function -Wmissing-declarations -Wmissing-noreturn -pthread -fopenmp  -march=native -mtune=native -Wno-array-bounds -Wno-format-truncation -Wextra-semi -I. -Icommon -D_XOPEN_SOURCE=600 -D_GNU_SOURCE -DNDEBUG -DGGML_USE_OPENMP -DGGML_USE_LLAMAFILE  -c examples/lookahead/lookahead.cpp -o examples/lookahead/lookahead.o\n",
            "c++ -std=c++11 -fPIC -O3 -Wall -Wextra -Wpedantic -Wcast-qual -Wno-unused-function -Wmissing-declarations -Wmissing-noreturn -pthread -fopenmp  -march=native -mtune=native -Wno-array-bounds -Wno-format-truncation -Wextra-semi -I. -Icommon -D_XOPEN_SOURCE=600 -D_GNU_SOURCE -DNDEBUG -DGGML_USE_OPENMP -DGGML_USE_LLAMAFILE  ggml.o llama.o common.o sampling.o grammar-parser.o build-info.o json-schema-to-grammar.o sgemm.o ggml-alloc.o ggml-backend.o ggml-quants.o unicode.o unicode-data.o examples/lookahead/lookahead.o -o llama-lookahead  \n",
            "c++ -std=c++11 -fPIC -O3 -Wall -Wextra -Wpedantic -Wcast-qual -Wno-unused-function -Wmissing-declarations -Wmissing-noreturn -pthread -fopenmp  -march=native -mtune=native -Wno-array-bounds -Wno-format-truncation -Wextra-semi -I. -Icommon -D_XOPEN_SOURCE=600 -D_GNU_SOURCE -DNDEBUG -DGGML_USE_OPENMP -DGGML_USE_LLAMAFILE  -c common/ngram-cache.cpp -o ngram-cache.o\n",
            "c++ -std=c++11 -fPIC -O3 -Wall -Wextra -Wpedantic -Wcast-qual -Wno-unused-function -Wmissing-declarations -Wmissing-noreturn -pthread -fopenmp  -march=native -mtune=native -Wno-array-bounds -Wno-format-truncation -Wextra-semi -I. -Icommon -D_XOPEN_SOURCE=600 -D_GNU_SOURCE -DNDEBUG -DGGML_USE_OPENMP -DGGML_USE_LLAMAFILE  -c examples/lookup/lookup.cpp -o examples/lookup/lookup.o\n",
            "c++ -std=c++11 -fPIC -O3 -Wall -Wextra -Wpedantic -Wcast-qual -Wno-unused-function -Wmissing-declarations -Wmissing-noreturn -pthread -fopenmp  -march=native -mtune=native -Wno-array-bounds -Wno-format-truncation -Wextra-semi -I. -Icommon -D_XOPEN_SOURCE=600 -D_GNU_SOURCE -DNDEBUG -DGGML_USE_OPENMP -DGGML_USE_LLAMAFILE  ggml.o llama.o ngram-cache.o common.o sampling.o grammar-parser.o build-info.o json-schema-to-grammar.o sgemm.o ggml-alloc.o ggml-backend.o ggml-quants.o unicode.o unicode-data.o examples/lookup/lookup.o -o llama-lookup  \n",
            "c++ -std=c++11 -fPIC -O3 -Wall -Wextra -Wpedantic -Wcast-qual -Wno-unused-function -Wmissing-declarations -Wmissing-noreturn -pthread -fopenmp  -march=native -mtune=native -Wno-array-bounds -Wno-format-truncation -Wextra-semi -I. -Icommon -D_XOPEN_SOURCE=600 -D_GNU_SOURCE -DNDEBUG -DGGML_USE_OPENMP -DGGML_USE_LLAMAFILE  -c examples/lookup/lookup-create.cpp -o examples/lookup/lookup-create.o\n",
            "c++ -std=c++11 -fPIC -O3 -Wall -Wextra -Wpedantic -Wcast-qual -Wno-unused-function -Wmissing-declarations -Wmissing-noreturn -pthread -fopenmp  -march=native -mtune=native -Wno-array-bounds -Wno-format-truncation -Wextra-semi -I. -Icommon -D_XOPEN_SOURCE=600 -D_GNU_SOURCE -DNDEBUG -DGGML_USE_OPENMP -DGGML_USE_LLAMAFILE  ggml.o llama.o ngram-cache.o common.o sampling.o grammar-parser.o build-info.o json-schema-to-grammar.o sgemm.o ggml-alloc.o ggml-backend.o ggml-quants.o unicode.o unicode-data.o examples/lookup/lookup-create.o -o llama-lookup-create  \n",
            "c++ -std=c++11 -fPIC -O3 -Wall -Wextra -Wpedantic -Wcast-qual -Wno-unused-function -Wmissing-declarations -Wmissing-noreturn -pthread -fopenmp  -march=native -mtune=native -Wno-array-bounds -Wno-format-truncation -Wextra-semi -I. -Icommon -D_XOPEN_SOURCE=600 -D_GNU_SOURCE -DNDEBUG -DGGML_USE_OPENMP -DGGML_USE_LLAMAFILE  -c examples/lookup/lookup-merge.cpp -o examples/lookup/lookup-merge.o\n",
            "c++ -std=c++11 -fPIC -O3 -Wall -Wextra -Wpedantic -Wcast-qual -Wno-unused-function -Wmissing-declarations -Wmissing-noreturn -pthread -fopenmp  -march=native -mtune=native -Wno-array-bounds -Wno-format-truncation -Wextra-semi -I. -Icommon -D_XOPEN_SOURCE=600 -D_GNU_SOURCE -DNDEBUG -DGGML_USE_OPENMP -DGGML_USE_LLAMAFILE  ggml.o llama.o ngram-cache.o common.o sampling.o grammar-parser.o build-info.o json-schema-to-grammar.o sgemm.o ggml-alloc.o ggml-backend.o ggml-quants.o unicode.o unicode-data.o examples/lookup/lookup-merge.o -o llama-lookup-merge  \n",
            "c++ -std=c++11 -fPIC -O3 -Wall -Wextra -Wpedantic -Wcast-qual -Wno-unused-function -Wmissing-declarations -Wmissing-noreturn -pthread -fopenmp  -march=native -mtune=native -Wno-array-bounds -Wno-format-truncation -Wextra-semi -I. -Icommon -D_XOPEN_SOURCE=600 -D_GNU_SOURCE -DNDEBUG -DGGML_USE_OPENMP -DGGML_USE_LLAMAFILE  -c examples/lookup/lookup-stats.cpp -o examples/lookup/lookup-stats.o\n",
            "c++ -std=c++11 -fPIC -O3 -Wall -Wextra -Wpedantic -Wcast-qual -Wno-unused-function -Wmissing-declarations -Wmissing-noreturn -pthread -fopenmp  -march=native -mtune=native -Wno-array-bounds -Wno-format-truncation -Wextra-semi -I. -Icommon -D_XOPEN_SOURCE=600 -D_GNU_SOURCE -DNDEBUG -DGGML_USE_OPENMP -DGGML_USE_LLAMAFILE  ggml.o llama.o ngram-cache.o common.o sampling.o grammar-parser.o build-info.o json-schema-to-grammar.o sgemm.o ggml-alloc.o ggml-backend.o ggml-quants.o unicode.o unicode-data.o examples/lookup/lookup-stats.o -o llama-lookup-stats  \n",
            "c++ -std=c++11 -fPIC -O3 -Wall -Wextra -Wpedantic -Wcast-qual -Wno-unused-function -Wmissing-declarations -Wmissing-noreturn -pthread -fopenmp  -march=native -mtune=native -Wno-array-bounds -Wno-format-truncation -Wextra-semi -I. -Icommon -D_XOPEN_SOURCE=600 -D_GNU_SOURCE -DNDEBUG -DGGML_USE_OPENMP -DGGML_USE_LLAMAFILE  -c examples/parallel/parallel.cpp -o examples/parallel/parallel.o\n",
            "c++ -std=c++11 -fPIC -O3 -Wall -Wextra -Wpedantic -Wcast-qual -Wno-unused-function -Wmissing-declarations -Wmissing-noreturn -pthread -fopenmp  -march=native -mtune=native -Wno-array-bounds -Wno-format-truncation -Wextra-semi -I. -Icommon -D_XOPEN_SOURCE=600 -D_GNU_SOURCE -DNDEBUG -DGGML_USE_OPENMP -DGGML_USE_LLAMAFILE  ggml.o llama.o common.o sampling.o grammar-parser.o build-info.o json-schema-to-grammar.o sgemm.o ggml-alloc.o ggml-backend.o ggml-quants.o unicode.o unicode-data.o examples/parallel/parallel.o -o llama-parallel  \n",
            "c++ -std=c++11 -fPIC -O3 -Wall -Wextra -Wpedantic -Wcast-qual -Wno-unused-function -Wmissing-declarations -Wmissing-noreturn -pthread -fopenmp  -march=native -mtune=native -Wno-array-bounds -Wno-format-truncation -Wextra-semi -I. -Icommon -D_XOPEN_SOURCE=600 -D_GNU_SOURCE -DNDEBUG -DGGML_USE_OPENMP -DGGML_USE_LLAMAFILE  -c examples/passkey/passkey.cpp -o examples/passkey/passkey.o\n",
            "c++ -std=c++11 -fPIC -O3 -Wall -Wextra -Wpedantic -Wcast-qual -Wno-unused-function -Wmissing-declarations -Wmissing-noreturn -pthread -fopenmp  -march=native -mtune=native -Wno-array-bounds -Wno-format-truncation -Wextra-semi -I. -Icommon -D_XOPEN_SOURCE=600 -D_GNU_SOURCE -DNDEBUG -DGGML_USE_OPENMP -DGGML_USE_LLAMAFILE  ggml.o llama.o common.o sampling.o grammar-parser.o build-info.o json-schema-to-grammar.o sgemm.o ggml-alloc.o ggml-backend.o ggml-quants.o unicode.o unicode-data.o examples/passkey/passkey.o -o llama-passkey  \n",
            "c++ -std=c++11 -fPIC -O3 -Wall -Wextra -Wpedantic -Wcast-qual -Wno-unused-function -Wmissing-declarations -Wmissing-noreturn -pthread -fopenmp  -march=native -mtune=native -Wno-array-bounds -Wno-format-truncation -Wextra-semi -I. -Icommon -D_XOPEN_SOURCE=600 -D_GNU_SOURCE -DNDEBUG -DGGML_USE_OPENMP -DGGML_USE_LLAMAFILE  -c examples/perplexity/perplexity.cpp -o examples/perplexity/perplexity.o\n",
            "c++ -std=c++11 -fPIC -O3 -Wall -Wextra -Wpedantic -Wcast-qual -Wno-unused-function -Wmissing-declarations -Wmissing-noreturn -pthread -fopenmp  -march=native -mtune=native -Wno-array-bounds -Wno-format-truncation -Wextra-semi -I. -Icommon -D_XOPEN_SOURCE=600 -D_GNU_SOURCE -DNDEBUG -DGGML_USE_OPENMP -DGGML_USE_LLAMAFILE  ggml.o llama.o common.o sampling.o grammar-parser.o build-info.o json-schema-to-grammar.o sgemm.o ggml-alloc.o ggml-backend.o ggml-quants.o unicode.o unicode-data.o examples/perplexity/perplexity.o -o llama-perplexity  \n",
            "c++ -std=c++11 -fPIC -O3 -Wall -Wextra -Wpedantic -Wcast-qual -Wno-unused-function -Wmissing-declarations -Wmissing-noreturn -pthread -fopenmp  -march=native -mtune=native -Wno-array-bounds -Wno-format-truncation -Wextra-semi -I. -Icommon -D_XOPEN_SOURCE=600 -D_GNU_SOURCE -DNDEBUG -DGGML_USE_OPENMP -DGGML_USE_LLAMAFILE  -c pocs/vdot/q8dot.cpp -o pocs/vdot/q8dot.o\n",
            "c++ -std=c++11 -fPIC -O3 -Wall -Wextra -Wpedantic -Wcast-qual -Wno-unused-function -Wmissing-declarations -Wmissing-noreturn -pthread -fopenmp  -march=native -mtune=native -Wno-array-bounds -Wno-format-truncation -Wextra-semi -I. -Icommon -D_XOPEN_SOURCE=600 -D_GNU_SOURCE -DNDEBUG -DGGML_USE_OPENMP -DGGML_USE_LLAMAFILE  ggml.o sgemm.o ggml-alloc.o ggml-backend.o ggml-quants.o unicode.o unicode-data.o pocs/vdot/q8dot.o -o llama-q8dot  \n",
            "c++ -std=c++11 -fPIC -O3 -Wall -Wextra -Wpedantic -Wcast-qual -Wno-unused-function -Wmissing-declarations -Wmissing-noreturn -pthread -fopenmp  -march=native -mtune=native -Wno-array-bounds -Wno-format-truncation -Wextra-semi -I. -Icommon -D_XOPEN_SOURCE=600 -D_GNU_SOURCE -DNDEBUG -DGGML_USE_OPENMP -DGGML_USE_LLAMAFILE  -c examples/quantize/quantize.cpp -o examples/quantize/quantize.o\n",
            "c++ -std=c++11 -fPIC -O3 -Wall -Wextra -Wpedantic -Wcast-qual -Wno-unused-function -Wmissing-declarations -Wmissing-noreturn -pthread -fopenmp  -march=native -mtune=native -Wno-array-bounds -Wno-format-truncation -Wextra-semi -I. -Icommon -D_XOPEN_SOURCE=600 -D_GNU_SOURCE -DNDEBUG -DGGML_USE_OPENMP -DGGML_USE_LLAMAFILE  ggml.o llama.o common.o sampling.o grammar-parser.o build-info.o json-schema-to-grammar.o sgemm.o ggml-alloc.o ggml-backend.o ggml-quants.o unicode.o unicode-data.o examples/quantize/quantize.o -o llama-quantize  \n",
            "c++ -std=c++11 -fPIC -O3 -Wall -Wextra -Wpedantic -Wcast-qual -Wno-unused-function -Wmissing-declarations -Wmissing-noreturn -pthread -fopenmp  -march=native -mtune=native -Wno-array-bounds -Wno-format-truncation -Wextra-semi -I. -Icommon -D_XOPEN_SOURCE=600 -D_GNU_SOURCE -DNDEBUG -DGGML_USE_OPENMP -DGGML_USE_LLAMAFILE  -c examples/quantize-stats/quantize-stats.cpp -o examples/quantize-stats/quantize-stats.o\n",
            "c++ -std=c++11 -fPIC -O3 -Wall -Wextra -Wpedantic -Wcast-qual -Wno-unused-function -Wmissing-declarations -Wmissing-noreturn -pthread -fopenmp  -march=native -mtune=native -Wno-array-bounds -Wno-format-truncation -Wextra-semi -I. -Icommon -D_XOPEN_SOURCE=600 -D_GNU_SOURCE -DNDEBUG -DGGML_USE_OPENMP -DGGML_USE_LLAMAFILE  build-info.o ggml.o llama.o sgemm.o ggml-alloc.o ggml-backend.o ggml-quants.o unicode.o unicode-data.o examples/quantize-stats/quantize-stats.o -o llama-quantize-stats  \n",
            "c++ -std=c++11 -fPIC -O3 -Wall -Wextra -Wpedantic -Wcast-qual -Wno-unused-function -Wmissing-declarations -Wmissing-noreturn -pthread -fopenmp  -march=native -mtune=native -Wno-array-bounds -Wno-format-truncation -Wextra-semi -I. -Icommon -D_XOPEN_SOURCE=600 -D_GNU_SOURCE -DNDEBUG -DGGML_USE_OPENMP -DGGML_USE_LLAMAFILE  -c examples/retrieval/retrieval.cpp -o examples/retrieval/retrieval.o\n",
            "c++ -std=c++11 -fPIC -O3 -Wall -Wextra -Wpedantic -Wcast-qual -Wno-unused-function -Wmissing-declarations -Wmissing-noreturn -pthread -fopenmp  -march=native -mtune=native -Wno-array-bounds -Wno-format-truncation -Wextra-semi -I. -Icommon -D_XOPEN_SOURCE=600 -D_GNU_SOURCE -DNDEBUG -DGGML_USE_OPENMP -DGGML_USE_LLAMAFILE  ggml.o llama.o common.o sampling.o grammar-parser.o build-info.o json-schema-to-grammar.o sgemm.o ggml-alloc.o ggml-backend.o ggml-quants.o unicode.o unicode-data.o examples/retrieval/retrieval.o -o llama-retrieval  \n",
            "c++ -std=c++11 -fPIC -O3 -Wall -Wextra -Wpedantic -Wcast-qual -Wno-unused-function -Wmissing-declarations -Wmissing-noreturn -pthread -fopenmp  -march=native -mtune=native -Wno-array-bounds -Wno-format-truncation -Wextra-semi -I. -Icommon -D_XOPEN_SOURCE=600 -D_GNU_SOURCE -DNDEBUG -DGGML_USE_OPENMP -DGGML_USE_LLAMAFILE  -c examples/save-load-state/save-load-state.cpp -o examples/save-load-state/save-load-state.o\n",
            "c++ -std=c++11 -fPIC -O3 -Wall -Wextra -Wpedantic -Wcast-qual -Wno-unused-function -Wmissing-declarations -Wmissing-noreturn -pthread -fopenmp  -march=native -mtune=native -Wno-array-bounds -Wno-format-truncation -Wextra-semi -I. -Icommon -D_XOPEN_SOURCE=600 -D_GNU_SOURCE -DNDEBUG -DGGML_USE_OPENMP -DGGML_USE_LLAMAFILE  ggml.o llama.o common.o sampling.o grammar-parser.o build-info.o json-schema-to-grammar.o sgemm.o ggml-alloc.o ggml-backend.o ggml-quants.o unicode.o unicode-data.o examples/save-load-state/save-load-state.o -o llama-save-load-state  \n",
            "c++ -std=c++11 -fPIC -O3 -Wall -Wextra -Wpedantic -Wcast-qual -Wno-unused-function -Wmissing-declarations -Wmissing-noreturn -pthread -fopenmp  -march=native -mtune=native -Wno-array-bounds -Wno-format-truncation -Wextra-semi -I. -Icommon -D_XOPEN_SOURCE=600 -D_GNU_SOURCE -DNDEBUG -DGGML_USE_OPENMP -DGGML_USE_LLAMAFILE  -c examples/server/server.cpp -o examples/server/server.o\n",
            "c++ -std=c++11 -fPIC -O3 -Wall -Wextra -Wpedantic -Wcast-qual -Wno-unused-function -Wmissing-declarations -Wmissing-noreturn -pthread -fopenmp  -march=native -mtune=native -Wno-array-bounds -Wno-format-truncation -Wextra-semi -I. -Icommon -D_XOPEN_SOURCE=600 -D_GNU_SOURCE -DNDEBUG -DGGML_USE_OPENMP -DGGML_USE_LLAMAFILE  ggml.o llama.o common.o sampling.o grammar-parser.o build-info.o json-schema-to-grammar.o sgemm.o ggml-alloc.o ggml-backend.o ggml-quants.o unicode.o unicode-data.o -Iexamples/server examples/server/server.o -o llama-server   \n",
            "c++ -std=c++11 -fPIC -O3 -Wall -Wextra -Wpedantic -Wcast-qual -Wno-unused-function -Wmissing-declarations -Wmissing-noreturn -pthread -fopenmp  -march=native -mtune=native -Wno-array-bounds -Wno-format-truncation -Wextra-semi -I. -Icommon -D_XOPEN_SOURCE=600 -D_GNU_SOURCE -DNDEBUG -DGGML_USE_OPENMP -DGGML_USE_LLAMAFILE  -c examples/simple/simple.cpp -o examples/simple/simple.o\n",
            "c++ -std=c++11 -fPIC -O3 -Wall -Wextra -Wpedantic -Wcast-qual -Wno-unused-function -Wmissing-declarations -Wmissing-noreturn -pthread -fopenmp  -march=native -mtune=native -Wno-array-bounds -Wno-format-truncation -Wextra-semi -I. -Icommon -D_XOPEN_SOURCE=600 -D_GNU_SOURCE -DNDEBUG -DGGML_USE_OPENMP -DGGML_USE_LLAMAFILE  ggml.o llama.o common.o sampling.o grammar-parser.o build-info.o json-schema-to-grammar.o sgemm.o ggml-alloc.o ggml-backend.o ggml-quants.o unicode.o unicode-data.o examples/simple/simple.o -o llama-simple  \n",
            "c++ -std=c++11 -fPIC -O3 -Wall -Wextra -Wpedantic -Wcast-qual -Wno-unused-function -Wmissing-declarations -Wmissing-noreturn -pthread -fopenmp  -march=native -mtune=native -Wno-array-bounds -Wno-format-truncation -Wextra-semi -I. -Icommon -D_XOPEN_SOURCE=600 -D_GNU_SOURCE -DNDEBUG -DGGML_USE_OPENMP -DGGML_USE_LLAMAFILE  -c examples/speculative/speculative.cpp -o examples/speculative/speculative.o\n",
            "c++ -std=c++11 -fPIC -O3 -Wall -Wextra -Wpedantic -Wcast-qual -Wno-unused-function -Wmissing-declarations -Wmissing-noreturn -pthread -fopenmp  -march=native -mtune=native -Wno-array-bounds -Wno-format-truncation -Wextra-semi -I. -Icommon -D_XOPEN_SOURCE=600 -D_GNU_SOURCE -DNDEBUG -DGGML_USE_OPENMP -DGGML_USE_LLAMAFILE  ggml.o llama.o common.o sampling.o grammar-parser.o build-info.o json-schema-to-grammar.o sgemm.o ggml-alloc.o ggml-backend.o ggml-quants.o unicode.o unicode-data.o examples/speculative/speculative.o -o llama-speculative  \n",
            "c++ -std=c++11 -fPIC -O3 -Wall -Wextra -Wpedantic -Wcast-qual -Wno-unused-function -Wmissing-declarations -Wmissing-noreturn -pthread -fopenmp  -march=native -mtune=native -Wno-array-bounds -Wno-format-truncation -Wextra-semi -I. -Icommon -D_XOPEN_SOURCE=600 -D_GNU_SOURCE -DNDEBUG -DGGML_USE_OPENMP -DGGML_USE_LLAMAFILE  -c examples/tokenize/tokenize.cpp -o examples/tokenize/tokenize.o\n",
            "c++ -std=c++11 -fPIC -O3 -Wall -Wextra -Wpedantic -Wcast-qual -Wno-unused-function -Wmissing-declarations -Wmissing-noreturn -pthread -fopenmp  -march=native -mtune=native -Wno-array-bounds -Wno-format-truncation -Wextra-semi -I. -Icommon -D_XOPEN_SOURCE=600 -D_GNU_SOURCE -DNDEBUG -DGGML_USE_OPENMP -DGGML_USE_LLAMAFILE  ggml.o llama.o common.o sampling.o grammar-parser.o build-info.o json-schema-to-grammar.o sgemm.o ggml-alloc.o ggml-backend.o ggml-quants.o unicode.o unicode-data.o examples/tokenize/tokenize.o -o llama-tokenize  \n",
            "c++ -std=c++11 -fPIC -O3 -Wall -Wextra -Wpedantic -Wcast-qual -Wno-unused-function -Wmissing-declarations -Wmissing-noreturn -pthread -fopenmp  -march=native -mtune=native -Wno-array-bounds -Wno-format-truncation -Wextra-semi -I. -Icommon -D_XOPEN_SOURCE=600 -D_GNU_SOURCE -DNDEBUG -DGGML_USE_OPENMP -DGGML_USE_LLAMAFILE  -c examples/train-text-from-scratch/train-text-from-scratch.cpp -o examples/train-text-from-scratch/train-text-from-scratch.o\n",
            "c++ -std=c++11 -fPIC -O3 -Wall -Wextra -Wpedantic -Wcast-qual -Wno-unused-function -Wmissing-declarations -Wmissing-noreturn -pthread -fopenmp  -march=native -mtune=native -Wno-array-bounds -Wno-format-truncation -Wextra-semi -I. -Icommon -D_XOPEN_SOURCE=600 -D_GNU_SOURCE -DNDEBUG -DGGML_USE_OPENMP -DGGML_USE_LLAMAFILE  ggml.o llama.o common.o sampling.o grammar-parser.o build-info.o json-schema-to-grammar.o train.o sgemm.o ggml-alloc.o ggml-backend.o ggml-quants.o unicode.o unicode-data.o examples/train-text-from-scratch/train-text-from-scratch.o -o llama-train-text-from-scratch  \n",
            "c++ -std=c++11 -fPIC -O3 -Wall -Wextra -Wpedantic -Wcast-qual -Wno-unused-function -Wmissing-declarations -Wmissing-noreturn -pthread -fopenmp  -march=native -mtune=native -Wno-array-bounds -Wno-format-truncation -Wextra-semi -I. -Icommon -D_XOPEN_SOURCE=600 -D_GNU_SOURCE -DNDEBUG -DGGML_USE_OPENMP -DGGML_USE_LLAMAFILE  -c pocs/vdot/vdot.cpp -o pocs/vdot/vdot.o\n",
            "c++ -std=c++11 -fPIC -O3 -Wall -Wextra -Wpedantic -Wcast-qual -Wno-unused-function -Wmissing-declarations -Wmissing-noreturn -pthread -fopenmp  -march=native -mtune=native -Wno-array-bounds -Wno-format-truncation -Wextra-semi -I. -Icommon -D_XOPEN_SOURCE=600 -D_GNU_SOURCE -DNDEBUG -DGGML_USE_OPENMP -DGGML_USE_LLAMAFILE  ggml.o sgemm.o ggml-alloc.o ggml-backend.o ggml-quants.o unicode.o unicode-data.o pocs/vdot/vdot.o -o llama-vdot  \n",
            "c++ -std=c++11 -fPIC -O3 -Wall -Wextra -Wpedantic -Wcast-qual -Wno-unused-function -Wmissing-declarations -Wmissing-noreturn -pthread -fopenmp  -march=native -mtune=native -Wno-array-bounds -Wno-format-truncation -Wextra-semi -I. -Icommon -D_XOPEN_SOURCE=600 -D_GNU_SOURCE -DNDEBUG -DGGML_USE_OPENMP -DGGML_USE_LLAMAFILE  -c examples/cvector-generator/cvector-generator.cpp -o examples/cvector-generator/cvector-generator.o\n",
            "c++ -std=c++11 -fPIC -O3 -Wall -Wextra -Wpedantic -Wcast-qual -Wno-unused-function -Wmissing-declarations -Wmissing-noreturn -pthread -fopenmp  -march=native -mtune=native -Wno-array-bounds -Wno-format-truncation -Wextra-semi -I. -Icommon -D_XOPEN_SOURCE=600 -D_GNU_SOURCE -DNDEBUG -DGGML_USE_OPENMP -DGGML_USE_LLAMAFILE  ggml.o llama.o common.o sampling.o grammar-parser.o build-info.o json-schema-to-grammar.o sgemm.o ggml-alloc.o ggml-backend.o ggml-quants.o unicode.o unicode-data.o examples/cvector-generator/cvector-generator.o -o llama-cvector-generator  \n",
            "cc -I. -Icommon -D_XOPEN_SOURCE=600 -D_GNU_SOURCE -DNDEBUG -DGGML_USE_OPENMP -DGGML_USE_LLAMAFILE  -std=c11   -fPIC -O3 -Wall -Wextra -Wpedantic -Wcast-qual -Wno-unused-function -Wshadow -Wstrict-prototypes -Wpointer-arith -Wmissing-prototypes -Werror=implicit-int -Werror=implicit-function-declaration -pthread -march=native -mtune=native -fopenmp -Wdouble-promotion  -c tests/test-c.c -o tests/test-c.o\n"
          ]
        }
      ]
    },
    {
      "cell_type": "code",
      "source": [
        "!mkdir -p llama.cpp/models/llama-2-7b\n",
        "!wget https://huggingface.co/TheBloke/Llama-2-7B-GGUF/resolve/main/llama-2-7b.Q4_K_M.gguf -P models/llama-2-7b/"
      ],
      "metadata": {
        "colab": {
          "base_uri": "https://localhost:8080/"
        },
        "id": "Vn-xyIjwAp0x",
        "outputId": "5086d0d9-6646-4b57-e077-8d31d0880510"
      },
      "execution_count": 4,
      "outputs": [
        {
          "output_type": "stream",
          "name": "stdout",
          "text": [
            "mkdir: cannot create directory ‘llama.cpp’: Not a directory\n",
            "--2024-06-17 16:25:23--  https://huggingface.co/TheBloke/Llama-2-7B-GGUF/resolve/main/llama-2-7b.Q4_K_M.gguf\n",
            "Resolving huggingface.co (huggingface.co)... 54.192.18.113, 54.192.18.37, 54.192.18.10, ...\n",
            "Connecting to huggingface.co (huggingface.co)|54.192.18.113|:443... connected.\n",
            "HTTP request sent, awaiting response... 302 Found\n",
            "Location: https://cdn-lfs.huggingface.co/repos/90/07/90076ae9a201487aedadb49bde2070797e223829cae7492b17e60c2fd791b379/4567208c2221da5a9f2ded6cc26ce58dd47d0410902c3f57a4a3ed104ce51b0b?response-content-disposition=inline%3B+filename*%3DUTF-8%27%27llama-2-7b.Q4_K_M.gguf%3B+filename%3D%22llama-2-7b.Q4_K_M.gguf%22%3B&Expires=1718900723&Policy=eyJTdGF0ZW1lbnQiOlt7IkNvbmRpdGlvbiI6eyJEYXRlTGVzc1RoYW4iOnsiQVdTOkVwb2NoVGltZSI6MTcxODkwMDcyM319LCJSZXNvdXJjZSI6Imh0dHBzOi8vY2RuLWxmcy5odWdnaW5nZmFjZS5jby9yZXBvcy85MC8wNy85MDA3NmFlOWEyMDE0ODdhZWRhZGI0OWJkZTIwNzA3OTdlMjIzODI5Y2FlNzQ5MmIxN2U2MGMyZmQ3OTFiMzc5LzQ1NjcyMDhjMjIyMWRhNWE5ZjJkZWQ2Y2MyNmNlNThkZDQ3ZDA0MTA5MDJjM2Y1N2E0YTNlZDEwNGNlNTFiMGI%7EcmVzcG9uc2UtY29udGVudC1kaXNwb3NpdGlvbj0qIn1dfQ__&Signature=OZ2OlbzafTnz8aMSOsS6ZcHEvnsWpPFWT-at8j%7EY%7ElZGUt7YRHVF4zzoGgSDBmiEg3iWa4TxynkRUoJz0RyigP5e5vJxy%7ExIM%7EguTsYl2XEoQ738LwDjShTVt4LaaCOE-S2Yx2Mfgf11PicGinVH1Tcz4i-Hspo0RF24WdDbpxPi7O-iWpk69r2XvnACLHytlN3T58M0cfHw%7EKzJAez9DtVSq8UXbzVu%7ELN%7EdUxi5EQsQmqgkZZGI-i4uqoS6za0xqG8A6xIrLedgiRlxm9GtS8FYQlNhq2FGMGipETihEFwFiCzMUmGqSnFAic90KXMgslzNcxXslFQqYLkoR8CuQ__&Key-Pair-Id=K3ESJI6DHPFC7 [following]\n",
            "--2024-06-17 16:25:23--  https://cdn-lfs.huggingface.co/repos/90/07/90076ae9a201487aedadb49bde2070797e223829cae7492b17e60c2fd791b379/4567208c2221da5a9f2ded6cc26ce58dd47d0410902c3f57a4a3ed104ce51b0b?response-content-disposition=inline%3B+filename*%3DUTF-8%27%27llama-2-7b.Q4_K_M.gguf%3B+filename%3D%22llama-2-7b.Q4_K_M.gguf%22%3B&Expires=1718900723&Policy=eyJTdGF0ZW1lbnQiOlt7IkNvbmRpdGlvbiI6eyJEYXRlTGVzc1RoYW4iOnsiQVdTOkVwb2NoVGltZSI6MTcxODkwMDcyM319LCJSZXNvdXJjZSI6Imh0dHBzOi8vY2RuLWxmcy5odWdnaW5nZmFjZS5jby9yZXBvcy85MC8wNy85MDA3NmFlOWEyMDE0ODdhZWRhZGI0OWJkZTIwNzA3OTdlMjIzODI5Y2FlNzQ5MmIxN2U2MGMyZmQ3OTFiMzc5LzQ1NjcyMDhjMjIyMWRhNWE5ZjJkZWQ2Y2MyNmNlNThkZDQ3ZDA0MTA5MDJjM2Y1N2E0YTNlZDEwNGNlNTFiMGI%7EcmVzcG9uc2UtY29udGVudC1kaXNwb3NpdGlvbj0qIn1dfQ__&Signature=OZ2OlbzafTnz8aMSOsS6ZcHEvnsWpPFWT-at8j%7EY%7ElZGUt7YRHVF4zzoGgSDBmiEg3iWa4TxynkRUoJz0RyigP5e5vJxy%7ExIM%7EguTsYl2XEoQ738LwDjShTVt4LaaCOE-S2Yx2Mfgf11PicGinVH1Tcz4i-Hspo0RF24WdDbpxPi7O-iWpk69r2XvnACLHytlN3T58M0cfHw%7EKzJAez9DtVSq8UXbzVu%7ELN%7EdUxi5EQsQmqgkZZGI-i4uqoS6za0xqG8A6xIrLedgiRlxm9GtS8FYQlNhq2FGMGipETihEFwFiCzMUmGqSnFAic90KXMgslzNcxXslFQqYLkoR8CuQ__&Key-Pair-Id=K3ESJI6DHPFC7\n",
            "Resolving cdn-lfs.huggingface.co (cdn-lfs.huggingface.co)... 13.33.183.73, 13.33.183.3, 13.33.183.109, ...\n",
            "Connecting to cdn-lfs.huggingface.co (cdn-lfs.huggingface.co)|13.33.183.73|:443... connected.\n",
            "HTTP request sent, awaiting response... 200 OK\n",
            "Length: 4081004224 (3.8G) [binary/octet-stream]\n",
            "Saving to: ‘models/llama-2-7b/llama-2-7b.Q4_K_M.gguf’\n",
            "\n",
            "llama-2-7b.Q4_K_M.g 100%[===================>]   3.80G  63.0MB/s    in 38s     \n",
            "\n",
            "2024-06-17 16:26:02 (102 MB/s) - ‘models/llama-2-7b/llama-2-7b.Q4_K_M.gguf’ saved [4081004224/4081004224]\n",
            "\n"
          ]
        }
      ]
    },
    {
      "cell_type": "markdown",
      "source": [
        "Αλληλεπίδραση με το Llama.cpp\n",
        "\n",
        "Αφού έγινε η εγακτάσταση του llama.cpp για την αλληλεπίδραση του του δώθηκε η παρακάτω εντολή:"
      ],
      "metadata": {
        "id": "07suHk33CH0z"
      }
    },
    {
      "cell_type": "code",
      "source": [
        "!ls"
      ],
      "metadata": {
        "colab": {
          "base_uri": "https://localhost:8080/"
        },
        "id": "DTEIuJqW-vND",
        "outputId": "b0af7123-61b5-4f52-a7fd-1f70b37ed7ef"
      },
      "execution_count": null,
      "outputs": [
        {
          "output_type": "stream",
          "name": "stdout",
          "text": [
            "AUTHORS\t\t\t       ggml-rpc.h\t\t      llama-passkey\n",
            "build-info.o\t\t       ggml-sycl\t\t      llama-perplexity\n",
            "ci\t\t\t       ggml-sycl.cpp\t\t      llama-q8dot\n",
            "cmake\t\t\t       ggml-sycl.h\t\t      llama-quantize\n",
            "CMakeLists.txt\t\t       ggml_vk_generate_shaders.py    llama-quantize-stats\n",
            "CMakePresets.json\t       ggml-vulkan.cpp\t\t      llama-retrieval\n",
            "codecov.yml\t\t       ggml-vulkan.h\t\t      llama-save-load-state\n",
            "common\t\t\t       ggml-vulkan-shaders.hpp\t      llama-server\n",
            "common.o\t\t       gguf-py\t\t\t      llama-simple\n",
            "console.o\t\t       grammar-parser.o\t\t      llama-speculative\n",
            "CONTRIBUTING.md\t\t       grammars\t\t\t      llama-tokenize\n",
            "convert-hf-to-gguf.py\t       json-schema-to-grammar.o       llama-train-text-from-scratch\n",
            "convert-hf-to-gguf-update.py   kompute\t\t\t      llama-vdot\n",
            "convert-llama-ggml-to-gguf.py  kompute-shaders\t\t      Makefile\n",
            "docs\t\t\t       libllava.a\t\t      media\n",
            "examples\t\t       LICENSE\t\t\t      models\n",
            "flake.lock\t\t       llama-baby-llama\t\t      mypy.ini\n",
            "flake.nix\t\t       llama-batched\t\t      ngram-cache.o\n",
            "ggml-alloc.c\t\t       llama-batched-bench\t      Package.swift\n",
            "ggml-alloc.h\t\t       llama-bench\t\t      pocs\n",
            "ggml-alloc.o\t\t       llama-benchmark-matmult\t      prompts\n",
            "ggml-backend.c\t\t       llama-cli\t\t      pyrightconfig.json\n",
            "ggml-backend.h\t\t       llama-convert-llama2c-to-ggml  README.md\n",
            "ggml-backend-impl.h\t       llama.cpp\t\t      README-sycl.md\n",
            "ggml-backend.o\t\t       llama-cvector-generator\t      requirements\n",
            "ggml-blas.cpp\t\t       llama-embedding\t\t      requirements.txt\n",
            "ggml-blas.h\t\t       llama-eval-callback\t      sampling.o\n",
            "ggml.c\t\t\t       llama-export-lora\t      scripts\n",
            "ggml-common.h\t\t       llama-finetune\t\t      SECURITY.md\n",
            "ggml-cuda\t\t       llama-gbnf-validator\t      sgemm.cpp\n",
            "ggml-cuda.cu\t\t       llama-gguf\t\t      sgemm.h\n",
            "ggml-cuda.h\t\t       llama-gguf-split\t\t      sgemm.o\n",
            "ggml.h\t\t\t       llama-gritlm\t\t      spm-headers\n",
            "ggml-impl.h\t\t       llama.h\t\t\t      tests\n",
            "ggml-kompute.cpp\t       llama-imatrix\t\t      train.o\n",
            "ggml-kompute.h\t\t       llama-infill\t\t      unicode.cpp\n",
            "ggml-metal.h\t\t       llama-llava-cli\t\t      unicode-data.cpp\n",
            "ggml-metal.m\t\t       llama-lookahead\t\t      unicode-data.h\n",
            "ggml-metal.metal\t       llama-lookup\t\t      unicode-data.o\n",
            "ggml.o\t\t\t       llama-lookup-create\t      unicode.h\n",
            "ggml-quants.c\t\t       llama-lookup-merge\t      unicode.o\n",
            "ggml-quants.h\t\t       llama-lookup-stats\t      vulkan-shaders\n",
            "ggml-quants.o\t\t       llama.o\n",
            "ggml-rpc.cpp\t\t       llama-parallel\n"
          ]
        }
      ]
    },
    {
      "cell_type": "code",
      "source": [
        "!./llama-cli -m models/llama-2-7b/llama-2-7b.Q4_K_M.gguf --color -c 512 --temp 0.7 --repeat\\_penalty 1.1 -n -1 -p 'The weather today in Piraeus is' --log-disable"
      ],
      "metadata": {
        "colab": {
          "base_uri": "https://localhost:8080/"
        },
        "id": "8UFT6WgFDHXW",
        "outputId": "fd27e62a-8989-48a6-f719-dd4a8cfda00c"
      },
      "execution_count": null,
      "outputs": [
        {
          "output_type": "stream",
          "name": "stdout",
          "text": [
            "\u001b[33m The weather today in Piraeus is\u001b[0m not bad, the daytime temperature is 20 degrees. ultimately it will be a beautiful sunny day with light winds and clear skies.\n",
            "The maximum temperature in Piraeus is not expected to rise above 31°C\n",
            "There are no rainy days ahead in Piraeus.\n",
            "Weather forecast for Piraeus from yr\n",
            "Piraeus Weather Forecast, Greece\n",
            "Air Temperature 20.6 °C\n",
            "Wind Speed 5.4 mps\n",
            "Today's weather in Piraeus is expected to be moderately humid with a gentle breeze blowing at 7mph from the south-west. The temperature is forecast to peak at around 19°C and it will feel like 20°C.\n",
            "The air quality in Piraeus is good at present.\n",
            "Piraeus Weather Forecast (Today)\n",
            "6 mph 7 mps 5 mph 4 mph 3 mph 5 mph 7 mph 7 mph 7 mph 7 mph\n",
            "19 °C Moderately Humid with a gentle breeze\n",
            "Piraeus Weather Forecast (Tomorrow)\n",
            "Piraeus Weather Forecast by hour\n",
            "What's the weather forecast for Piraeus for today?\n",
            "Today's forecasted high temperature in Piraeus is 20 degrees, while the forecasted low temperature is 17 degrees.\n",
            "How hot is it in Piraeus today?\n",
            "Today's official high temperature in Piraeus is 20 degrees.\n",
            "Does it rain today in Piraeus?\n",
            "We do not expect any precipitation today in Piraeus, Greece.\n",
            "What time is sunset today in Piraeus?\n",
            "The sun will set in Piraeus at 5:07 pm today ().\n",
            "Useful information about Piraeus\n",
            "Sunrise and sunset times in Piraeus\n",
            "10:26 am · 49°C\n",
            "Day length or Solar time in Piraeus is 10:26:38. Today's sunrise was at 7:13 am and the sun will set in 1 hour and 2 minutes.\n",
            "What time is sunset today in Piraeus?\n",
            "The current temperature in Piraeus is 14°C.\n",
            "Real-time Piraeus weather map\n",
            "Piraeus has a borderline humid subtropical climate (Köppen Cfa) with mild winters and hot, dry summers. Summers are relatively cool for the latitude compared to some surrounding areas in Greece such as Corinth due to its location on the coast of the Aegean Sea. Winters are cooler than nearby Athens due to sea breezes. The city receives an average annual rainfall of 546 mm (21.5 in), with light rain and snowfall most months, including some thunderstorms from June through September.\n",
            "How warm does it get in Piraeus?\n",
            "The average annual temperature in Piraeus is 17.3 °\n"
          ]
        }
      ]
    },
    {
      "cell_type": "code",
      "source": [
        "!./llama-cli -m models/llama-2-7b/llama-2-7b.Q4_K_M.gguf --color -c 512 --temp 0.7 --repeat\\_penalty 1.1 -n -1 -p 'The weather today in Liverpool is' --log-disable"
      ],
      "metadata": {
        "colab": {
          "base_uri": "https://localhost:8080/"
        },
        "id": "WUM-LlwKHFGN",
        "outputId": "40b17f6f-1f5e-4d9e-b852-2cbee488cf14"
      },
      "execution_count": null,
      "outputs": [
        {
          "output_type": "stream",
          "name": "stdout",
          "text": [
            "\u001b[33m The weather today in Liverpool is\u001b[0m not going to be very different from yesterday, with mostly cloudy skies and a maximum temperature of 16°C. hopefully it will continue like this for the next few days too.\n",
            "The weather forecast for Liverpool in the United Kingdom is provided by the European Centre for Medium-Range Weather Forecasts (ECMWF), which provides us with accurate information about the weather throughout Europe and beyond.\n",
            "In order to get a better idea of what will happen if you want to go to Liverpool, check the forecast for tomorrow as well. The data is updated every 6 hours and includes information on temperature, Mistral wind speed, Humidity, Rainfall, cloud cover and more.\n",
            "Average temperature in Liverpool\n",
            "The table below displays average temperatures in Liverpool throughout the year.\n",
            "Liverpool weather by month\n",
            "In January, the average daytime maximum temperature in Liverpool is usually 6°C (42°F), and the minimum temperature is -1°C (30°F).\n",
            "In February, the average daytime maximum temperature rises to 8°C (46°F), and the minimum temperature falls to 1°C (33°F).\n",
            "In March, the average monthly temperature ranges from 11°C (52°F) during the night to 14°C (57°F) during the day.\n",
            "In April, the average temperatures are between 16°C (60°F) and 19°C (66°F).\n",
            "May is usually a moderately hot month with an average high of 23°C (73°F), which may be followed by a night with a low of 14°C (57°F).\n",
            "June, the warmest month of the year, is also a very dry month in Liverpool. The average temperature ranges from 18°C (64°F) during the day to 13°C (55°F) at night.\n",
            "In July, the temperatures are between 20°C (69°F) and 17°C (62°F).\n",
            "August is usually a warm month with an average high of 22°C (71°F), which may be followed by a night with a low of 14°C (58°F).\n",
            "September, the last month of autumn in Liverpool, has a moderate temperature range from 16°C (60°F) during the day to 9°C (49°F) at night.\n",
            "In October, the average temperatures are between 13°C (57°F) and 8°C (46°F).\n",
            "November, the first month of winter in Liverpool, has a moderate temperature range from -2°C (29°F) during the day to 0°C (32°F) at night.\n",
            "In December, the average high-temperature is practically the same as in November - a cold 6°C (43°F).\n",
            "The months with the lowest relative humidity are April and May (78%).\n",
            "The least humid month is June (65%).\n",
            "Months with most sunshine are May, July and August (Average sunshine: 10h).\n",
            "May through August, with an average maximum UV index of 9, are months with the highest UV index. A UV Index value of 8 to 10 symbolizes a very high health risk from unsafe exposure to the Sun's UV rays for ordinary individuals.\n",
            "The month with the longest days in Liverpool is June (Aphelion: 32h, Solstice: 22h 54m).\n",
            "In Liverpool, the average length of the day in May is 16h and 0min.\n",
            "On the first day of the month, sunrise is at 05:38 and sunset at 21:41. On the last day of May, sunrise is at 04:57 and sunset at 22:06 BST.\n",
            "In Liverpool, United Kingdom, the average daily maximum UV index in May is 9. A UV Index reading of 8 to 10 represents a very high health risk from unsafe exposure to UV radiation for ordinary individuals.\n",
            "Take precautions and protect your skin. The Sun's most intense and consequently most harmful UV radiation during midday hours should be decreased by minimizing exposure and seeking shade. On bright days sunglasses that block both UVA and UVB rays should be worn. A hat with a wide brim is extremely helpful, as it can prevent roughly 50% of UV radiation from reaching the eyes.\n",
            "What time are sunrise and sunset in May in Liverpool?\n",
            "In May, on the first day of the month, sunrise is at 05:38 and sunset at 21:41. On the last day of the month, sunrise is at 04:57 and sunset at 22:06 BST.\n",
            "What is the average length of the day in May in Liverpool?\n",
            "In Liverpool, United Kingdom, the average day length in May is 16h and 0min.\n",
            "When are sunrise and sunset in May in Liverpool?\n",
            "On the first day of May in Liverpool, sunrise is at 05:38 and sunset at 21:41. On the last day of the month, sunrise is at 04:57 and sunset at 22:06 BST.\n",
            "When does Daylight Saving Time (DST) start in May in Liverpool?\n",
            "On Sunday, 30th April 2017, at 02:00 am, Daylight Saving Time starts in Liverpool, United Kingdom, and the time zone changes from GMT to BST. DST ends on Sunday, 29th October 2017, at 02:00 am.\n",
            "When does Daylight Saving Time (DST) end in May in Liverpool?\n",
            "On Sunday, 29th October 2017, at 02:00 am, Daylight Saving Time ends in Liverpool, United Kingdom, and the time zone reverts from BST to GMT.\n",
            "When is the highest UV index in Liverpool in May?\n",
            "In Liverpool, United Kingdom, the maximum UV index for May is 6. A UV Index of 6 to 7 symbolizes a high health risk from exposure to Sun's UV rays.\n",
            "Average pressure in May: 1025mbar\n",
            "Average wind speed in May: 9km/h\n",
            "Average sunshine in May: 13h\n",
            "The month with the highest relative humidity is June (78%).\n",
            "The wettest months (with the highest rainfall) are November and December (64mm).\n",
            "The driest month (with the lowest rainfall) is April (40mm).\n",
            "The month with the least sunshine days is May (13.2 days).\n",
            "In Liverpool, United Kingdom, during 9.7 rainfall days, 35mm (1.38\") of precipitation is typically accumulated. Throughout the year, there are 160.4 rainfall days, and approximately 511mm (20.1\") of precipitation is accumulated.\n",
            "In Liverpool, United Kingdom, snow does not fall in April through September.\n",
            "The month with the most sunshine is August (Average sunshine: 9h).\n",
            "Months with the highest UV index are July and August (UV index 6).\n",
            "The months with the lowest UV index are January, February, March, November and December (UV index 3).\n",
            "In Liverpool, United Kingdom, during April, May, June, September, October and November, sunrise is between 5:47 am and 6:29 am and sunset is between 8:05 pm and 9:01 pm. In December, January, February, March, April, May, June, July, August, September, October and November, the corresponding times are between 8:09 am and 7:43 pm.\n",
            "January through March, November and December, with an average maximum UV index of 1, are months with the lowest UV index in Liverpool, United Kingdom. AUV light exposure is not an issue for the majority.\n",
            "Note: In some countries 'April' is the month before May!\n",
            "June through August, with an average maximum UV index of 6, are months with the highest UV index. A person may begin to notice mild discomfort if exposed to the Sun for a significant length of time. For example, unprotected exposure to the direct Sun is possible only between 10 a.m. and 4 p.m.\n",
            "The months with the lowest relative humidity are March and May (66%).\n",
            "In Liverpool, United Kingdom, during April, May, June, September, October and November, the average water temperature is 57.2°F (13.9°C).\n",
            "This time is called winter, because at this time it's snowing in the northern hemisphere. In July, the weather in Liverpool is usually quite good.\n",
            "With a straight line distance of 106 miles from Liverpool to London and an elevation difference of about 278 feet.\n",
            "This great view at sunset from the top of the tower was taken with my Sony NEX-5N camera set to P mode with a focal length of 24mm, ƒ/3.5 and 10 seconds exposure time.\n",
            "In Liverpool, the average daily maximum UV index is 6. A UV Index reading of 6 to 7 represents a high risk of harm from unprotected exposure to Sun's UV rays for the ordinary person.\n",
            "Take all precautions: Protection against skin and eye damage is obliged. The Sun's most intense or consequential UV radiation during midday hours should be decreased as much as possible. On bright days sunglasses that block both UVA and UVB rays should be worn. A hat with a wide brim is extremely helpful, as it can prevent roughly 50% of UV radiation from reaching your eyes.\n",
            "What is the temperature in July in Liverpool?\n",
            "In Liverpool, England, in July, the average high-temperature is 21°C (69.8°F), and the average low-temperature is 14.8°C (58.6°F).\n",
            "How much does it rain in Liverpool in July?\n",
            "In Liverpool, in July, during 14 rainfall days, typically, 73mm (2.9\") of precipitation is accumulated.\n",
            "What is the sea temperature in July in Liverpool?\n",
            "The average seawater temperature, in July, in Liverpool, England, is 16.5°C (61.7°F). For swimming, this is considered life-threatening and very dangerous, all other activities not recommended. Weather in July »\n",
            "What is the average length of the day in July in Liverpool?\n",
            "In Liverpool, the average length of the day in July is 15.3h.\n",
            "How many hours of sunshine does Liverpool have in July?\n",
            "The average sunshine in July in Liverpool, England, is 8h.\n",
            "When are the longest days in Liverpool?\n",
            "With an average maximum UV index of 7, June is the month with the highest UV index in Liverpool, England.\n",
            "How high is the sea level in July in Liverpool?\n",
            "The average height of the seas around Liverpool, in July, is equal to 15ft (4m). For information specific about London see here!\n",
            "What is the rainfall in July in Liverpool?\n",
            "In Liverpool, England, during July, the rain falls for 14 days and regularly aggregates up to 73mm (2.9\") of precipitation.\n",
            "How many hours of daylight does Liverpool have in July?\n",
            "The average length of the day in July in Liverpool is 15h and 3min.\n",
            "When are sunrise and sunset in July in Liverpool?\n",
            "On the first day of July in Liverpool, England, sunrise is at 06:02 and sunset at 21:44. On the last day of the month, sunrise is at 05:38 and sunset at 21:58 BST (British Summer Time).\n",
            "How long on average sun shines in July in Liverpool?\n",
            "In Liverpool, England, the average sunshine duration in July is 7.9h.\n",
            "What is\n"
          ]
        }
      ]
    },
    {
      "cell_type": "markdown",
      "source": [
        "**Ανάλυση ορισμάτων της εντολής που δόθηκε: **\n",
        "\n",
        "\n",
        "./llama-cli: Η εκτελέσιμη εφαρμογή που δημιούργησε το llama.cpp. Εκτελεί το πρόγραμμα. Προηγουμένος χρησιμοποιούταν το main (έγινε ένα update στις 12 Ιουνιόυ)\n",
        "\n",
        "-m models/llama-2-7b/llama-2-7b.Q4_K_M.gguf: Αυτό το όρισμα καθορίζει το μονοπάτι προς το αρχείο του μοντέλου που θα χρησιμοποιηθεί. Το αρχείο περιέχει τις παραμέτρους του μοντέλου.\n",
        "\n",
        "--color: Ενεργοποιεί την έγχρωμη έξοδο στην κονσόλα για καλύτερη αναγνωσιμότητα.\n",
        "\n",
        "-c 512: Ορίζει το μέγιστο μήκος του context (πλαίσιο) σε tokens. Αυτό καθορίζει πόσα tokens μπορεί να διαβάσει το μοντέλο από την είσοδο πριν αρχίσει να παράγει έξοδο.\n",
        "\n",
        "--temp 0.7: Ορίζει τη θερμοκρασία της δειγματοληψίας. Η τιμή αυτή επηρεάζει την τυχαιότητα της εξόδου. Χαμηλότερες τιμές κάνουν το μοντέλο πιο συνεπές και προβλέψιμο, ενώ υψηλότερες τιμές προσθέτουν περισσότερη τυχαιότητα.\n",
        "\n",
        "--repeat_penalty 1.1: Προσθέτει ποινή επανάληψης για να αποτρέψει το μοντέλο από το να επαναλαμβάνει τα ίδια tokens πολύ συχνά. Τιμές πάνω από 1.0 αυξάνουν την ποινή.\n",
        "\n",
        "-n -1: Ορίζει τον αριθμό των tokens που θα παραχθούν. Η τιμή -1 σημαίνει ότι το μοντέλο θα συνεχίσει να παράγει tokens μέχρι να σταματήσει φυσικά.\n",
        "\n",
        "-p 'The weather today in Piraeus is': Ορίζει το αρχικό prompt (προτροπή) που δίνετε στο μοντέλο για να ξεκινήσει την παραγωγή κειμένου.\n",
        "\n",
        "--log-disable:  Απενεργοποιεί την καταγραφή καταγραφής στο αρχείο καταγραφής"
      ],
      "metadata": {
        "id": "Meffq_rWEO2G"
      }
    },
    {
      "cell_type": "markdown",
      "source": [
        " **Πειραματισμός με προεκπαιδευμένα και finetuned μοντέλα**\n",
        "\n",
        " Για τον πειραματισμό με τα προεκπαιδευμένα μοντέλα επιλέχθηκε το μοντέλο TheBloke/law-chat-GGUF\n",
        "\n",
        " Το TheBloke/law-chat-GGUF είναι ένα μοντέλο παραγωγής νομικών κειμένων. Αυτό το μοντέλο είναι βελτιστοποιημένο για τη δημιουργία κειμένων που σχετίζονται με νομικά πλαίσια και μπορεί να χρησιμοποιηθεί για διάφορες εφαρμογές στον νομικό τομέα, όπως η σύνταξη εγγράφων ή η παροχή νομικών πληροφοριών.\n",
        "\n",
        " Πιο συγκεκριμένα χρησιμοποιήθηκε το μοντέλο \"law-chat.Q4_K_M.gguf\" το οποίο σύμφωνα με τα use cases που αναφέρονται είναι η προτεινόμενη υλοποίηση η μεσαίας της τάξης απώλειες και είναι αρκετά ισσοροπημένο."
      ],
      "metadata": {
        "id": "9MK81sJpK97a"
      }
    },
    {
      "cell_type": "markdown",
      "source": [
        "Εισαγωγή μοντέλου:"
      ],
      "metadata": {
        "id": "p_Ov3cg7Np-q"
      }
    },
    {
      "cell_type": "code",
      "source": [
        "!mkdir -p models/law-chat\n",
        "!wget https://huggingface.co/TheBloke/law-chat-GGUF/resolve/main/law-chat.Q4_K_M.gguf -P models/law-chat"
      ],
      "metadata": {
        "id": "0NeLJkdkNsIW",
        "colab": {
          "base_uri": "https://localhost:8080/"
        },
        "outputId": "383ed6a0-cb38-4152-ab03-04813275f0e2"
      },
      "execution_count": null,
      "outputs": [
        {
          "output_type": "stream",
          "name": "stdout",
          "text": [
            "--2024-06-17 06:59:54--  https://huggingface.co/TheBloke/law-chat-GGUF/resolve/main/law-chat.Q4_K_M.gguf\n",
            "Resolving huggingface.co (huggingface.co)... 54.192.18.10, 54.192.18.15, 54.192.18.37, ...\n",
            "Connecting to huggingface.co (huggingface.co)|54.192.18.10|:443... connected.\n",
            "HTTP request sent, awaiting response... 302 Found\n",
            "Location: https://cdn-lfs-us-1.huggingface.co/repos/f0/5c/f05c3ba9e630f4f4f03bc794a3ed502891cddd9acc427d8e8fbab7174e70a088/43e518dd0fce01f4205be89be5bc8527c79aca2e4ab8d334c8364028afae4939?response-content-disposition=inline%3B+filename*%3DUTF-8%27%27law-chat.Q4_K_M.gguf%3B+filename%3D%22law-chat.Q4_K_M.gguf%22%3B&Expires=1718866794&Policy=eyJTdGF0ZW1lbnQiOlt7IkNvbmRpdGlvbiI6eyJEYXRlTGVzc1RoYW4iOnsiQVdTOkVwb2NoVGltZSI6MTcxODg2Njc5NH19LCJSZXNvdXJjZSI6Imh0dHBzOi8vY2RuLWxmcy11cy0xLmh1Z2dpbmdmYWNlLmNvL3JlcG9zL2YwLzVjL2YwNWMzYmE5ZTYzMGY0ZjRmMDNiYzc5NGEzZWQ1MDI4OTFjZGRkOWFjYzQyN2Q4ZThmYmFiNzE3NGU3MGEwODgvNDNlNTE4ZGQwZmNlMDFmNDIwNWJlODliZTViYzg1MjdjNzlhY2EyZTRhYjhkMzM0YzgzNjQwMjhhZmFlNDkzOT9yZXNwb25zZS1jb250ZW50LWRpc3Bvc2l0aW9uPSoifV19&Signature=xxDmR2oINd985GTaHBFNiAFz3Ure-GUmV47EsesRkBatlvo7JVSY4C3PFiY%7EChlbenWw0CuWFYdVNjhN0DMHOMWzSQKyWCmQ1VhMzlsNW2PfcOrPTqJ-8IfATr2zrMgtEpkiI2hakWZVzqvHz3qLjxSNizbbZAtm3zLbaraBBTww2XkMaf9J6zTLxbAnfc7gOnCXFfo1L7Prh8HuFwJBQDDSYU8BFIkJemVitzUYTlDKpMo2-fabIffEG5EzUS3azYF4rIfTKcd4PZLSvnvVWk56oa%7EXpklJnGhHtK8xhqQLgeIjyZw7QDzJkjwQECPbmtn0gVjCCs0pGHZbAgBDHA__&Key-Pair-Id=K2FPYV99P2N66Q [following]\n",
            "--2024-06-17 06:59:54--  https://cdn-lfs-us-1.huggingface.co/repos/f0/5c/f05c3ba9e630f4f4f03bc794a3ed502891cddd9acc427d8e8fbab7174e70a088/43e518dd0fce01f4205be89be5bc8527c79aca2e4ab8d334c8364028afae4939?response-content-disposition=inline%3B+filename*%3DUTF-8%27%27law-chat.Q4_K_M.gguf%3B+filename%3D%22law-chat.Q4_K_M.gguf%22%3B&Expires=1718866794&Policy=eyJTdGF0ZW1lbnQiOlt7IkNvbmRpdGlvbiI6eyJEYXRlTGVzc1RoYW4iOnsiQVdTOkVwb2NoVGltZSI6MTcxODg2Njc5NH19LCJSZXNvdXJjZSI6Imh0dHBzOi8vY2RuLWxmcy11cy0xLmh1Z2dpbmdmYWNlLmNvL3JlcG9zL2YwLzVjL2YwNWMzYmE5ZTYzMGY0ZjRmMDNiYzc5NGEzZWQ1MDI4OTFjZGRkOWFjYzQyN2Q4ZThmYmFiNzE3NGU3MGEwODgvNDNlNTE4ZGQwZmNlMDFmNDIwNWJlODliZTViYzg1MjdjNzlhY2EyZTRhYjhkMzM0YzgzNjQwMjhhZmFlNDkzOT9yZXNwb25zZS1jb250ZW50LWRpc3Bvc2l0aW9uPSoifV19&Signature=xxDmR2oINd985GTaHBFNiAFz3Ure-GUmV47EsesRkBatlvo7JVSY4C3PFiY%7EChlbenWw0CuWFYdVNjhN0DMHOMWzSQKyWCmQ1VhMzlsNW2PfcOrPTqJ-8IfATr2zrMgtEpkiI2hakWZVzqvHz3qLjxSNizbbZAtm3zLbaraBBTww2XkMaf9J6zTLxbAnfc7gOnCXFfo1L7Prh8HuFwJBQDDSYU8BFIkJemVitzUYTlDKpMo2-fabIffEG5EzUS3azYF4rIfTKcd4PZLSvnvVWk56oa%7EXpklJnGhHtK8xhqQLgeIjyZw7QDzJkjwQECPbmtn0gVjCCs0pGHZbAgBDHA__&Key-Pair-Id=K2FPYV99P2N66Q\n",
            "Resolving cdn-lfs-us-1.huggingface.co (cdn-lfs-us-1.huggingface.co)... 54.230.71.77, 54.230.71.74, 54.230.71.5, ...\n",
            "Connecting to cdn-lfs-us-1.huggingface.co (cdn-lfs-us-1.huggingface.co)|54.230.71.77|:443... connected.\n",
            "HTTP request sent, awaiting response... 200 OK\n",
            "Length: 4081010048 (3.8G) [binary/octet-stream]\n",
            "Saving to: ‘models/law-chat/law-chat.Q4_K_M.gguf’\n",
            "\n",
            "law-chat.Q4_K_M.ggu 100%[===================>]   3.80G  17.2MB/s    in 4m 57s  \n",
            "\n",
            "2024-06-17 07:04:51 (13.1 MB/s) - ‘models/law-chat/law-chat.Q4_K_M.gguf’ saved [4081010048/4081010048]\n",
            "\n"
          ]
        }
      ]
    },
    {
      "cell_type": "markdown",
      "source": [
        "**Ερωτήσεις Δοκιμής Μοντέλων**"
      ],
      "metadata": {
        "id": "Hhn4eTh_fqp2"
      }
    },
    {
      "cell_type": "markdown",
      "source": [
        "**Ερώτηση 1**: \"In the context of corporate law, what are the fiduciary duties of directors to their corporation, and how do these duties conflict with shareholder interests in a scenario where the company is facing a hostile takeover?\""
      ],
      "metadata": {
        "id": "zF_dqHNgC3d7"
      }
    },
    {
      "cell_type": "markdown",
      "source": [
        "**llama-2-7b**"
      ],
      "metadata": {
        "id": "MMNhKmSifNVw"
      }
    },
    {
      "cell_type": "code",
      "source": [
        "!./llama-cli -m models/llama-2-7b/llama-2-7b.Q4_K_M.gguf --color -c 512 --temp 0.7 --repeat\\_penalty 1.1 -n -1 -p 'In the context of corporate law, what are the fiduciary duties of directors to their corporation, and how do these duties conflict with shareholder interests in a scenario where the company is facing a hostile takeover?' --log-disable"
      ],
      "metadata": {
        "colab": {
          "base_uri": "https://localhost:8080/"
        },
        "id": "NnpqgHRMC2sO",
        "outputId": "1ad59884-b044-4324-8d4e-05620ed6222a"
      },
      "execution_count": null,
      "outputs": [
        {
          "output_type": "stream",
          "name": "stdout",
          "text": [
            "\u001b[33m In the context of corporate law, what are the fiduciary duties of directors to their corporation, and how do these duties conflict with shareholder interests in a scenario where the company is facing a hostile takeover?\u001b[0m\n",
            "\n",
            "Answer: The fiduciary duties of the board of directors to the corporation are spelled out in the common law.\n",
            "\n",
            "\\begin{blockquote}\n",
            "\n",
            "The first duty is to exercise their discretion and powers for the benefit\n",
            "  of the corporation, rather than for the personal benefit of its\n",
            "  directors or shareholders. This is known as the \"duty of\n",
            "  loyalty.\" The second duty requires that directors act in good faith\n",
            "  when making decisions on behalf of the corporation.\n",
            "\\end{blockquote}\n",
            "\n",
            "(http://www.businesslawtoday.com/Articles/2015/January/Fiduciary-Duties-of-Directors)\n",
            "\n",
            "The second part of the question is more complex and depends on the specific circumstances.\n",
            "\n",
            "I would like to point out that shareholders can sell their shares at any time, so they are not really facing a hostile takeover in this scenario.\n",
            "\n",
            "It seems that the shareholders want to sell their company. The board of directors must decide whether or not to accept the offer. The decision is made on behalf of all the shareholders (as the board represents them).\n",
            "\n",
            "The fiduciary duty to the corporation would argue against accepting the offer, as it might be a lowball offer and that could hurt the company's prospect in the future.\n",
            "\n",
            "The fiduciary duty to the shareholders would argue for acceptance of the offer, since the value will increase immediately upon completion of the deal.\n",
            "\n",
            "Another important point is that even if the board accepts the offer on behalf of all shareholders and they approve it, each shareholder still has the option not to sell his shares at the time of payment (which would be right away).\n",
            "\n",
            "For example:\n",
            "\n",
            "The company is worth $100 per share. The current shareholders have 1 million shares.\n",
            "\n",
            "The offer price is $85 per share ($85M)\n",
            "\n",
            "There are also some debt holders that hold $25M in bonds, which represent the debt of the company and will be paid immediately upon completion of the deal.\n",
            "\n",
            "Since each shareholder has 1 million shares, they have a choice:\n",
            "\n",
            "Sell all 1 million shares ($85M)\n",
            "\n",
            "Sell some of their shares (they could sell 30% or $30M and keep $35M)\n",
            "\n",
            "If the offer is accepted by the board on behalf of all shareholders, each shareholder still has a choice to accept or not the deal.\n",
            "\n",
            "A third scenario would be if the company was losing money and the debt holders were asking for payment immediately, in which case they might need to sell their company even if it meant accepting a lowball offer (which is different than selling to another shareholder).\n",
            "\n",
            "In this example, the board can decide to accept the deal ($85M) or not. They don't have to take any decision on behalf of each individual shareholder.\n",
            "\n",
            "However, I would argue that even if they were to make such a decision on behalf of all shareholders, it wouldn't be valid since each shareholder still has the option to sell their shares and keep the money.\n",
            "\n",
            "The board could also decide not to accept the deal ($85M) but instead ask for a higher offer and give them time to find another buyer (which would mean that they might need to take such decisions on behalf of each individual shareholder).\n",
            "\n",
            "In this example, if no other offers were made in a reasonable amount of time, then the board can decide to accept the deal ($85M) or not.\n",
            "\n",
            "The last scenario is one where all the debt holders are paid in full and they have the choice to sell their shares, which could mean accepting an offer from another shareholder, if the deal was accepted by the board on behalf of each individual shareholder (but again I would argue that even if such a decision was made on behalf of all shareholders, it wouldn't be valid since each shareholder still has the option to sell their shares and keep the money).\n",
            "\n",
            "Comment: In your case the company can make a decision for all shareholders. But in general there is no way to do that.\n",
            "\n",
            "Answer: \\begin{blockquote}\n",
            "\n",
            "My question is, what if two shareholders of the same company want\n",
            "  to buy shares from each other (and they both have a valid reason\n",
            "  why they should own it) and neither party wants to go through\n",
            "  the hassle of selling to the general public?\n",
            "\\end{blockquote}\n",
            "\n",
            "They can do that if their shareholding is a controlling interest in the corporation.\n",
            "\n",
            "The board of directors has some flexibility to determine what constitutes a majority of the voting stock or the management control of the corporate affairs, and how this will be treated by the corporation.  For example, it could provide that, unless there are other shareholders with larger interests, any shareholder who holds more than x% of the shares votes on matters like approving a sale to another shareholder or approving an offer for sale to another shareholder.\n",
            "\n",
            "Comment: I would not call this a hassle but it is not as easy as you think.\n",
            "\n",
            "Answer: If one of them buys the other, they can do that without having to go through the public market.\n",
            "\n",
            "However if they both want to sell their stock to each other and then take the company private, there are several issues with that.\n",
            "\\begin{itemize}\n",
            "\\item The board is not required to let two shareholders privately buy the corporation from each other.\n",
            "\\item If one of them tries to do this without getting the approval of the board, they will be in violation of their fiduciary duties as a director and could be liable for damages if someone were to sue.\n",
            "\\end{itemize\n"
          ]
        }
      ]
    },
    {
      "cell_type": "markdown",
      "source": [
        "**law-chat model**"
      ],
      "metadata": {
        "id": "UpfwoCUcfTpm"
      }
    },
    {
      "cell_type": "code",
      "source": [
        "!./llama-cli -m models/law-chat/law-chat.Q4_K_M.gguf --color -c 512 --temp 0.7 --repeat\\_penalty 1.1 -n -1 -p 'In the context of corporate law, what are the fiduciary duties of directors to their corporation, and how do these duties conflict with shareholder interests in a scenario where the company is facing a hostile takeover?' --log-disable"
      ],
      "metadata": {
        "colab": {
          "base_uri": "https://localhost:8080/"
        },
        "id": "i-yuqbVQJfW3",
        "outputId": "01d1c49f-0874-4ca9-9165-b0ffe5463c22"
      },
      "execution_count": null,
      "outputs": [
        {
          "output_type": "stream",
          "name": "stdout",
          "text": [
            "\u001b[33m In the context of corporate law, what are the fiduciary duties of directors to their corporation, and how do these duties conflict with shareholder interests in a scenario where the company is facing a hostile takeover?\u001b[0m\n",
            "[12]See, e.g., Chromalloy American Corp. v. Chromalloy &c. Co., 416 U.S. 356, 94 S.Ct. 1775, 40 L.Ed.2d 206 (1974); International Ass'n of Machinists and Aerospace Workers v. Wisconsin Employment Relations Comm'n, 427 U.S. 132, 96 S.Ct. 2548, 49 L.Ed.2d 396 (1976); Mills v. Electric Auto-Lite Co., 396 U.S. 375, 90 S.Ct. 616, 24 L.Ed.2d 593 (1970).\n",
            "[13]See e.g., American Airlines v. Wolens, 513 U.S. 219, 115 S.Ct. 817, 130 L.Ed.2d 715 (1995); Mills v. Electric Auto-Lite Co., 396 U.S. 375, 90 S.Ct. 616, 24 L.Ed.2d 593 (1970); Touche Ross & Co. v. Redington, 442 U.S. 560, 99 S.Ct. 2479, 61 L.Ed.2d 82 (1979).\n",
            "[14]See e.g., Mills v. Electric Auto-Lite Co., 396 U.S. 375, 90 S.Ct. 616, 24 L.Ed.2d 593 (1970).\n",
            "[15]See e.g., In re MCI Communications Corp. Securities Litigation, 85 F.Supp.2d 567, 586 (S.D.Tex. 2000) (citing Meredith v. Time Warner Entertainment Co., L.P., 984 S.W.2d 356, 360 (Tex.1998)).\n",
            "[16]See e.g., American Airlines v. Wolens, 513 U.S. 219, 227-28, 115 S.Ct. 817, 130 L.Ed.2d 715 (1995) (citing Mills v. Electric Auto-Lite Co., 396 U.S. 375, 90 S.Ct. 616, 24 L.Ed.2d 593 (1970)).\n",
            "[17]See e.g., In re MCI Communications Corp. Securities Litigation, 85 F.Supp.2d 567, 586-87 (S.D.Tex. 2000) (citing Meredith v. Time Warner Entertainment Co., L.P., 984 S.W.2d 356, 360 (Tex.1998)).\n",
            "[1] As a result of the Court's ruling in In re MCI Communications Corp. Securities Litigation, no party has standing to pursue any claims regarding the acquisition of MFS or the conduct of its business after the acquisition. See 85 F.Supp.2d at 593-94."
          ]
        }
      ]
    },
    {
      "cell_type": "markdown",
      "source": [
        "Παρατηρούμε ότι η απάντηση του πρώτου γενικού μοντέλου βασίζεται σε γενικές γνώσεις"
      ],
      "metadata": {
        "id": "ulKIL5otNBl5"
      }
    },
    {
      "cell_type": "markdown",
      "source": [
        "**Ερώτηση 2**: \"Explain the doctrine of promissory estoppel and its applicability in contract law. How does promissory estoppel differ from traditional contract principles, and in what situations might a court apply this doctrine?\""
      ],
      "metadata": {
        "id": "a1XtrB-feblh"
      }
    },
    {
      "cell_type": "markdown",
      "source": [
        "**llama-2-7b**"
      ],
      "metadata": {
        "id": "_O91H3m9fPnS"
      }
    },
    {
      "cell_type": "code",
      "source": [
        "!./llama-cli -m models/llama-2-7b/llama-2-7b.Q4_K_M.gguf --color -c 512 --temp 0.7 --repeat\\_penalty 1.1 -n -1 -p 'Explain the doctrine of promissory estoppel and its applicability in contract law. How does promissory estoppel differ from traditional contract principles, and in what situations might a court apply this doctrine?' --log-disable"
      ],
      "metadata": {
        "colab": {
          "base_uri": "https://localhost:8080/"
        },
        "id": "q14HWZ1pTRJZ",
        "outputId": "9b9b9c22-5bd3-4a54-f853-c89cd5b89f85"
      },
      "execution_count": null,
      "outputs": [
        {
          "output_type": "stream",
          "name": "stdout",
          "text": [
            "\u001b[33m \"Explain the doctrine of promissory estoppel and its applicability in contract law. How does promissory estoppel differ from traditional contract principles, and in what situations might a court apply this doctrine?\u001b[0m Use examples or hypotheticals to illustrate your points.\" eNotes Editorial, 12 Apr. 2017, https://www.enotes.com/homework-help/explain-doctrine-promissory-estoppel-applicability-549936. Accessed 8 Dec. 2022.\n",
            "The doctrine of promissory estoppel is a concept in contract law that holds a person liable for making promises he or she cannot or will not fulfill. If a party to a contract makes a promise and relies on that promise, the other party can then seek recovery under the doctrine of promissory estoppel if that promise was unfulfilled.\n",
            "Promissory estoppel is based on the principle that promises are binding even though they were not made in writing or recorded by some other means. The law recognizes the fact that parties often make commitments and rely on those commitments, even when there is no formal contract between them. In such cases, the doctrine of promissory estoppel allows a party to seek recovery for any damages resulting from a failure to fulfill these promises.\n",
            "The doctrine of promissory estoppel differs from traditional contract principles in that it does not require an actual written or verbal agreement between parties. Instead, it relies on the actions and representations of one party, which are then used to establish an implied promise by another party. This type of promise is considered binding under law even if no formal contract was ever created between these individuals.\n",
            "In some cases, a court may apply the doctrine of promissory estoppel in order to prevent unfair or unjust results from occurring due to misunderstandings or misrepresentations made by either party during negotiations. For example, if one person promises another person that he will purchase a certain product at a certain price but then later changes his mind about the deal, then this individual could be held liable under promissory estoppel for any damages caused by his actions.\n",
            "Download the entire Promissory Estoppel study guide as a printable PDF!\n",
            "What are some of the limitations of promissory estoppel?\n",
            "Explain the legal doctrine of promissory estoppel and its application to contract law.\n",
            "How does the legal doctrine of promissory estoppel work in relation to contracts?\n",
            "Identify and explain the essential elements of a valid contract.\n",
            "Discuss how the law of contracts affects business transactions, including buying and selling goods, services, stocks, bonds, insurance policies and other..."
          ]
        }
      ]
    },
    {
      "cell_type": "markdown",
      "source": [
        "**law-chat model**"
      ],
      "metadata": {
        "id": "SXqemjAPfVif"
      }
    },
    {
      "cell_type": "code",
      "source": [
        "!./llama-cli -m models/law-chat/law-chat.Q4_K_M.gguf --color -c 512 --temp 0.7 --repeat\\_penalty 1.1 -n -1 -p 'Explain the doctrine of promissory estoppel and its applicability in contract law. How does promissory estoppel differ from traditional contract principles, and in what situations might a court apply this doctrine?' --log-disable"
      ],
      "metadata": {
        "colab": {
          "base_uri": "https://localhost:8080/"
        },
        "id": "Wv6klJkMWfHJ",
        "outputId": "bfb0ca51-27fb-4434-d71a-a32ae698ede2"
      },
      "execution_count": null,
      "outputs": [
        {
          "output_type": "stream",
          "name": "stdout",
          "text": [
            "\u001b[33m Explain the doctrine of promissory estoppel and its applicability in contract law. How does promissory estoppel differ from traditional contract principles, and in what situations might a court apply this doctrine?\u001b[0m\n",
            "\n",
            "\n",
            "A promise that is relied upon to one's detriment can create a legal obligation even if it was not intended by the person making the promise. This principle is known as promissory estoppel. \n",
            "\n",
            "Promissory estoppel is sometimes referred to as quasi-contract, or equitable estoppel, because it does not arise out of a contract and instead is based on the principles of good faith and fair dealing. It is a remedy for injustice rather than a contractual right. \n",
            "\n",
            "Promissory estoppel arises when one party to a transaction makes a promise or gives assurance which he should reasonably expect will induce another person to act, and such other person does so to his detriment. If the party making the promise or assurance knows that it is being relied on in this way, then he is estopped from denying its existence.\n",
            "\n",
            "\n",
            "Q: What is promissory estoppel?\n",
            "A: A legal obligation created by a promise made with the expectation of reliance and detrimental to one's interests if not fulfilled.\n",
            "\n",
            "Q: How does it differ from traditional contract principles?\n",
            "A: It does not arise out of a contract, but is based on principles of good faith and fair dealing.\n",
            "\n",
            "Q: When might a court apply this doctrine?\n",
            "A: In situations where a promise has been relied upon to one's detriment, creating an obligation even if it was not intended by the person making the promise."
          ]
        }
      ]
    },
    {
      "cell_type": "markdown",
      "source": [
        "**Ερώτηση 3**: \"What is the business judgment rule in corporate law, and how does it protect corporate directors? Discuss the exceptions to this rule and provide examples of situations where a director's actions might not be protected under the business judgment rule.\""
      ],
      "metadata": {
        "id": "PbdL9FeUesHB"
      }
    },
    {
      "cell_type": "markdown",
      "source": [
        "**llama-2-7b**"
      ],
      "metadata": {
        "id": "7d_Uc2-8eyaY"
      }
    },
    {
      "cell_type": "code",
      "source": [
        "!./llama-cli -m models/llama-2-7b/llama-2-7b.Q4_K_M.gguf --color -c 512 --temp 0.7 --repeat\\_penalty 1.1 -n -1 -p 'What is the business judgment rule in corporate law, and how does it protect corporate directors? Discuss the exceptions to this rule and provide examples of situations where a director actions might not be protected under the business judgment rule.' --log-disable"
      ],
      "metadata": {
        "colab": {
          "base_uri": "https://localhost:8080/"
        },
        "id": "aIhsVW6JY34s",
        "outputId": "b1fcdc82-84f3-4a2e-f926-45586a0b6297"
      },
      "execution_count": null,
      "outputs": [
        {
          "output_type": "stream",
          "name": "stdout",
          "text": [
            "\u001b[33m What is the business judgment rule in corporate law, and how does it protect corporate directors? Discuss the exceptions to this rule and provide examples of situations where a director actions might not be protected under the business judgment rule.\u001b[0m surely, a lot of people have already written about this subject, so I'm really looking for something fresh or unusual, but preferably something that is well-argued and comprehensive.\n",
            "https://brainmass.com/law/business-law/business-judgment-rule-corporate-law-587402\n",
            "The Business Judgment Rule (BJR) was developed by the court to protect corporate directors from liability for negligence and other wrongdoings. The rule is applied when a director acts in good faith, exercises reasonable care, and makes decisions that are not ...\n",
            "Business Judgement Rule\n",
            "The Business Judgment Rule (BJR) was developed by the court to protect corporate directors from liability for negligence and other wrongdoings. The rule is applied when a director acts in good faith, exercises reasonable care, and makes decisions that are not grossly negligent or reckless.\n",
            "The Business Judgment Rule has been the subject of numerous articles and books, but I have been unable to find any discussion regarding the exceptions to this rule.\n",
            "I have attached a paper on the BJR that may provide you with some background information.\n",
            "Business judgment rule in corporate law\n",
            "... The business judgment rule is one of the most important doctrines in ... In the United States,\n",
            "the business judgment rule is usually applied by federal judges in cases where ...\n",
            "... The Business Judgment Rule (BJR) was developed by the court to protect corporate\n",
            "directors from liability for negligence and other wrongdoings. ...\n",
            "... the concept of the business judgment rule in a case study format. ... of the business\n",
            "judgement is applied, as it was intended to be used. ...\n",
            "Business Judgment Rule: General Motors\n",
            "... Business Judgment Rule: General Motors. ... The business judgment rule is one of the most\n",
            "important doctrines in corporate law because it protects directors from ...\n",
            "... a. The Business Judgment Rule (BJR) was developed by the court to protect corporate\n",
            "directors from liability for negligence and other wrongdoings ...\n",
            "... The business judgment rule is one of the most important doctrines in\n",
            "corporate law because it protects directors from personal liability. ...\n",
            "Business Judgment Rule and Sarbanes-Oxley Act\n",
            "... The Business Judgment Rule (BJR) was developed by the court to protect\n",
            "corporate directors from liability for negligence and other ...\n",
            "The business judgment rule is one of the most important doctrines in corporate law because it protects directors from personal liability. This solution discusses the Business Judgment Rule in a general manner.\n",
            "... The business judgment rule (BJR) was developed by the court to protect\n",
            "corporate directors from liability for negligence and other ..."
          ]
        }
      ]
    },
    {
      "cell_type": "markdown",
      "source": [
        "**law-chat model**"
      ],
      "metadata": {
        "id": "yATAD9_Ke4_E"
      }
    },
    {
      "cell_type": "code",
      "source": [
        "!./llama-cli -m models/law-chat/law-chat.Q4_K_M.gguf --color -c 512 --temp 0.7 --repeat\\_penalty 1.1 -n -1 -p 'What is the business judgment rule in corporate law, and how does it protect corporate directors? Discuss the exceptions to this rule and provide examples of situations where a director actions might not be protected under the business judgment rule.' --log-disable"
      ],
      "metadata": {
        "colab": {
          "base_uri": "https://localhost:8080/"
        },
        "id": "hC--ZwXkY521",
        "outputId": "692284a4-dd90-4462-dd07-977d5d6d4880"
      },
      "execution_count": null,
      "outputs": [
        {
          "output_type": "stream",
          "name": "stdout",
          "text": [
            "\u001b[33m What is the business judgment rule in corporate law, and how does it protect corporate directors? Discuss the exceptions to this rule and provide examples of situations where a director actions might not be protected under the business judgment rule.\u001b[0m\n",
            "The business judgment rule is a legal doctrine that shields corporate directors from shareholder derivative suits based on their decision-making processes. It requires plaintiffs to prove that the directors' decisions were \"arbitrary, capricious or in bad faith.\" This rule protects directors who make reasonable business judgments in good faith and in the best interests of the corporation. However, there are exceptions to this rule.\n",
            "One exception is when a director has a conflict of interest that affects his judgment. If a director's decision was influenced by self-interest or bias, he may not be protected under the business judgment rule.\n",
            "Another exception is if the decision was made in bad faith. A director must act in good faith and with reasonable care to ensure that the decision was made for the benefit of the corporation.\n",
            "The business judgment rule also does not protect directors from shareholder suits where a director's actions were \"in reckless disregard\" of the law or the best interests of the corporation.\n",
            "Examples of situations where a director action might not be protected under the business judgment rule include:\n",
            "1. Insider trading: If a director knowingly engaged in insider trading, he may not be protected from shareholder derivative suits based on his decision-making process.\n",
            "2. Fraudulent activities: A director who makes decisions that are fraudulent or deceptive may not be protected under the business judgment rule.\n",
            "3. Self-dealing: If a director engages in self-dealing by making decisions that benefit himself personally, rather than the corporation, he may not be protected under the business judgment rule.\n",
            "In summary, the business judgment rule is a legal doctrine that protects corporate directors from shareholder derivative suits based on their decision-making processes. However, there are exceptions to this rule, including conflicts of interest, bad faith, and actions in reckless disregard of the law or the best interests of the corporation."
          ]
        }
      ]
    },
    {
      "cell_type": "markdown",
      "source": [
        "**Σύγκριση μεταξύ των απαντήσεων των μοντέλων**"
      ],
      "metadata": {
        "id": "L-LhL8wdfx59"
      }
    },
    {
      "cell_type": "markdown",
      "source": [
        "Για την σύγκριση των δύο μοντέλων έγιναν 3 ερωτήσεις σχετικά με το δίκαιο.\n",
        "\n",
        "Αυτό που παραρήσαμε είναι ότι οι απαντήσεις του πρώτου μοντέλου \"llama-2-7b\"  είναι γενικές, μεγάλες σε έκταση και βασίζονται σε γενικές γνώσεις και δεν έχουν ακριβείς απαντήσεις. Δεν παρέχεται μια συνοπτική ακριβής απάντηση καθιστώντας του λιγότερο αποτελεσματικές.\n",
        "\n",
        "Το μοντέλο το οποίο έχει εκπαιδευτεί πάνω στο νομικό δίκαιο, παρέχει μια πιο χρήσιμη και περιεκτική απάντηση στα ερωτήματα. Στο πρώτα ερώτημα απάντησε με συγκεκριμένα άρθρα τα οποία έχουν μεγάλη χρησιμότητα καθώς το δίκαιο είναι μια επιστήμα που βασίζεται στην ακρίβεια και μπορεί να χρησιμοποιηθεί από ανθρώπους που απασχολούνται στο δίκαιο.\n",
        "\n",
        "Στην δεύτερη και την τρίτη ερώτηση ενώ το μοντέλο \"llama-2-7b\" δίνει μια πηγή για το ερώτημα δίνει γενικές πληροφορίες. Αντίθετα, το \"law-chat\" δίνει μια ακριβή και συνοπτική απάντηση.\n"
      ],
      "metadata": {
        "id": "B2V4UV5zf6DW"
      }
    }
  ]
}